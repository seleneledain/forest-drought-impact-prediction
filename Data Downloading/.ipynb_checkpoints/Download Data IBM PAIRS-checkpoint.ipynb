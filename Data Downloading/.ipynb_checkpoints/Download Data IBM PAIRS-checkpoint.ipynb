{
 "cells": [
  {
   "cell_type": "markdown",
   "id": "4d46aa8a",
   "metadata": {},
   "source": [
    "### Import Libraries and IBM PAIRS Authentication"
   ]
  },
  {
   "cell_type": "code",
   "execution_count": 1,
   "id": "4f50cbae",
   "metadata": {},
   "outputs": [],
   "source": [
    "import pandas as pd\n",
    "from ibmpairs import paw, authentication\n",
    "import json\n",
    "import numpy\n",
    "from datetime import datetime, timedelta\n",
    "import logging\n",
    "import matplotlib.pyplot as plt\n",
    "import re\n",
    "import numpy as np\n",
    "import traceback\n",
    "import rasterio\n",
    "import os"
   ]
  },
  {
   "cell_type": "code",
   "execution_count": 2,
   "id": "5dabf478",
   "metadata": {},
   "outputs": [],
   "source": [
    "logging.basicConfig(level=logging.INFO)\n",
    "pawLogger = logging.getLogger('ibmpairs.paw')\n",
    "pawLogger.setLevel(logging.INFO)"
   ]
  },
  {
   "cell_type": "code",
   "execution_count": 14,
   "id": "6dd18804",
   "metadata": {},
   "outputs": [],
   "source": [
    "with open(\"ibmpairskey.txt\", \"r\") as f:\n",
    "    pairs_key = f.read()"
   ]
  },
  {
   "cell_type": "code",
   "execution_count": 15,
   "id": "8cc990dd",
   "metadata": {},
   "outputs": [],
   "source": [
    "def authenticate(pairs_key):\n",
    "    \n",
    "    pairs_credentials = authentication.OAuth2(api_key=pairs_key)\n",
    "    auth_header = {'Authorization': f'Bearer {pairs_credentials.jwt_token}'}\n",
    "    PAIRS_SERVER   = 'https://pairs.res.ibm.com'\n",
    "    PAIRS_CREDENTIALS = authentication.OAuth2(api_key=pairs_key)"
   ]
  },
  {
   "cell_type": "code",
   "execution_count": 16,
   "id": "a82e56f3",
   "metadata": {},
   "outputs": [],
   "source": [
    "authenticate(pairs_key)"
   ]
  },
  {
   "cell_type": "code",
   "execution_count": 4,
   "id": "245efbb2",
   "metadata": {},
   "outputs": [],
   "source": [
    "pairs_credentials = authentication.OAuth2(api_key=pairs_key)\n",
    "auth_header = {'Authorization': f'Bearer {pairs_credentials.jwt_token}'}\n",
    "PAIRS_SERVER   = 'https://pairs.res.ibm.com'\n",
    "PAIRS_CREDENTIALS = authentication.OAuth2(api_key=pairs_key)"
   ]
  },
  {
   "cell_type": "markdown",
   "id": "a8381bbf",
   "metadata": {},
   "source": [
    "### Define Parameters\n",
    "Define bbox coordinates,start and end dates, query structure, layers"
   ]
  },
  {
   "cell_type": "code",
   "execution_count": 5,
   "id": "5d1db794",
   "metadata": {},
   "outputs": [],
   "source": [
    "#Sentinel 2 Layers\n",
    "senLayers = {\n",
    "    'Red' : '49360',\n",
    "    'Green' : '49681',\n",
    "    'Blue' : '49680',\n",
    "    'NIR': '49361',\n",
    "    'NDVI' : '49464',\n",
    "    'SCL': '49362',\n",
    "    'B12': '49687', # SWIR 2200 nm\n",
    "    'B11' : '49686', # SWIR 1610 nm\n",
    "    'B5' : '49682', # vegetation red edge\n",
    "    'B6' : '49683', # vegetation red edge\n",
    "    'B7' : '49684', # vegetation red edge\n",
    "    'CP':  '50250' # cloud prob map\n",
    "}"
   ]
  },
  {
   "cell_type": "code",
   "execution_count": 6,
   "id": "f31e7bfb",
   "metadata": {},
   "outputs": [],
   "source": [
    "#ERA Layers\n",
    "eraLayers = {\n",
    "    'Total Prec' : '49459',\n",
    "    'SP' : '49439',\n",
    "    'Temp' : '49423',\n",
    "    'AWVC' : '49458',\n",
    "    'PrecType' : '49435',\n",
    "    'SR' : '49440',\n",
    "    'TCC' : '49454',\n",
    "    'MinT' : '49429',\n",
    "    'MaxT' : '49430'\n",
    "}"
   ]
  },
  {
   "cell_type": "code",
   "execution_count": 7,
   "id": "d7eae9f9",
   "metadata": {},
   "outputs": [],
   "source": [
    "#Define date parameters\n",
    "date_start, date_end = None, None #Needed for defining the query for ERA5\n",
    "date = None #Needed for defining the query for Sentinel 2\n",
    "bbox = None"
   ]
  },
  {
   "cell_type": "code",
   "execution_count": 8,
   "id": "7a4e6898",
   "metadata": {},
   "outputs": [],
   "source": [
    "#Define areas\n",
    "areas = {\n",
    "    'bbox_1' : [\"46.94599\", \"7.68597\", \"47.20599\", \"7.94597\"]\n",
    "    #'bbox_2' : [\"47.20599\",\"7.94597\",\"47.46599\",\"8.20597\"]\n",
    "}"
   ]
  },
  {
   "cell_type": "code",
   "execution_count": 9,
   "id": "9adcc9c9",
   "metadata": {},
   "outputs": [],
   "source": [
    "#Define the query for Sentinel 2\n",
    "querySentinelJson = {\n",
    "    'layers' : [\n",
    "        {\n",
    "            \n",
    "            'type' : 'raster', 'id' : senLayers[lKey]\n",
    "            # 'temporal' : {'snapshot' : [{date}]},\n",
    "            # 'output' : False\n",
    "        }\n",
    "        for lKey in senLayers\n",
    "    ],\n",
    "    \"spatial\" : {\"type\" : \"square\",  \"coordinates\" : bbox }, \n",
    "    \"temporal\" : {\"intervals\" : [{\"snapshot\" : date}]} \n",
    "}"
   ]
  },
  {
   "cell_type": "code",
   "execution_count": 10,
   "id": "91b77623",
   "metadata": {},
   "outputs": [],
   "source": [
    "#Define the query for ERA5\n",
    "queryEraJson = {\n",
    "    'layers' : [\n",
    "        {            \n",
    "            'type' : 'raster', 'id' : eraLayers[lKey],\n",
    "            \"aggregation\" : \"Mean\"\n",
    "            #\"temporal\" : {\"intervals\" : [{\"start\" : date_start, \"end\" : date_end}]} # if you put date here, need to update them in loop (for every layer)\n",
    "        }\n",
    "        for lKey in eraLayers\n",
    "    ],\n",
    "    \"spatial\" : {\"type\" : \"square\",  \"coordinates\" : bbox }, \n",
    "    \"temporal\" : {\"intervals\" : [\n",
    "      {\"start\" : date_start, \"end\" : date_end}\n",
    "  ]}\n",
    "}"
   ]
  },
  {
   "cell_type": "markdown",
   "id": "c37e64ef",
   "metadata": {},
   "source": [
    "### Download Data\n",
    "Loop through grid coordinates and only download ERA5 when Sentinel 2 is available"
   ]
  },
  {
   "cell_type": "code",
   "execution_count": 11,
   "id": "1131bc29",
   "metadata": {},
   "outputs": [],
   "source": [
    "#Function that sets the date range\n",
    "def daterange(start_date, end_date):\n",
    "    for n in range(int((end_date - start_date).days)):\n",
    "        yield start_date + timedelta(n)"
   ]
  },
  {
   "cell_type": "code",
   "execution_count": 12,
   "id": "d1b6bcd3",
   "metadata": {},
   "outputs": [],
   "source": [
    "from datetime import date\n",
    "#Define start and end date\n",
    "start_date = date(2016, 8, 1)\n",
    "end_date = date(2016, 8, 14)\n",
    "\n",
    "iso8601 = '%Y-%m-%dT%H:%M:%SZ'"
   ]
  },
  {
   "cell_type": "code",
   "execution_count": 13,
   "id": "a73ca973",
   "metadata": {},
   "outputs": [
    {
     "name": "stderr",
     "output_type": "stream",
     "text": [
      "INFO:ibmpairs.paw:PAIRS query JSON initialized.\n",
      "WARNING:ibmpairs.paw:Fake submit to PAIRS in order to use (latest) locally cached data.\n",
      "WARNING:ibmpairs.paw:I am sorry, you asked for using the local cache, but your query does not match any existing. I am gonna query PAIRS instead: 'list index out of range'.\n",
      "INFO:ibmpairs.paw:Query successfully submitted, reference ID: 1664164800_34995327\n",
      "INFO:ibmpairs.paw:Here we go, PAIRS query result successfully downloaded as '1664164800_34995327_046a823cb530cdab8e999d62eb5e4c35.zip'.\n",
      "INFO:ibmpairs.paw:Data acknowledgement successfully loaded, print with `self.print_data_acknowledgement()`\n",
      "INFO:ibmpairs.paw:PAIRS meta data loaded from 'output.info'.\n",
      "WARNING:ibmpairs.paw:GDAL is not available for proper GeoTiff loading, default to standard PIL module to load raster data.\n",
      "WARNING:ibmpairs.paw:GDAL is not available for proper GeoTiff loading, default to standard PIL module to load raster data.\n",
      "WARNING:ibmpairs.paw:GDAL is not available for proper GeoTiff loading, default to standard PIL module to load raster data.\n",
      "WARNING:ibmpairs.paw:GDAL is not available for proper GeoTiff loading, default to standard PIL module to load raster data.\n",
      "WARNING:ibmpairs.paw:GDAL is not available for proper GeoTiff loading, default to standard PIL module to load raster data.\n",
      "WARNING:ibmpairs.paw:GDAL is not available for proper GeoTiff loading, default to standard PIL module to load raster data.\n",
      "WARNING:ibmpairs.paw:GDAL is not available for proper GeoTiff loading, default to standard PIL module to load raster data.\n",
      "WARNING:ibmpairs.paw:GDAL is not available for proper GeoTiff loading, default to standard PIL module to load raster data.\n",
      "WARNING:ibmpairs.paw:GDAL is not available for proper GeoTiff loading, default to standard PIL module to load raster data.\n",
      "WARNING:ibmpairs.paw:GDAL is not available for proper GeoTiff loading, default to standard PIL module to load raster data.\n",
      "WARNING:ibmpairs.paw:GDAL is not available for proper GeoTiff loading, default to standard PIL module to load raster data.\n",
      "WARNING:ibmpairs.paw:GDAL is not available for proper GeoTiff loading, default to standard PIL module to load raster data.\n",
      "INFO:ibmpairs.paw:PAIRS query JSON initialized.\n",
      "WARNING:ibmpairs.paw:Fake submit to PAIRS in order to use (latest) locally cached data.\n",
      "WARNING:ibmpairs.paw:I am sorry, you asked for using the local cache, but your query does not match any existing. I am gonna query PAIRS instead: 'list index out of range'.\n",
      "INFO:ibmpairs.paw:Query successfully submitted, reference ID: 1664164800_35339939\n",
      "INFO:ibmpairs.paw:Here we go, PAIRS query result successfully downloaded as '1664164800_35339939_504c47949d10c159d5a7b3f7d8af72ce.zip'.\n",
      "INFO:ibmpairs.paw:Data acknowledgement successfully loaded, print with `self.print_data_acknowledgement()`\n",
      "INFO:ibmpairs.paw:PAIRS meta data loaded from 'output.info'.\n",
      "WARNING:ibmpairs.paw:GDAL is not available for proper GeoTiff loading, default to standard PIL module to load raster data.\n",
      "WARNING:ibmpairs.paw:GDAL is not available for proper GeoTiff loading, default to standard PIL module to load raster data.\n",
      "WARNING:ibmpairs.paw:GDAL is not available for proper GeoTiff loading, default to standard PIL module to load raster data.\n",
      "WARNING:ibmpairs.paw:GDAL is not available for proper GeoTiff loading, default to standard PIL module to load raster data.\n",
      "WARNING:ibmpairs.paw:GDAL is not available for proper GeoTiff loading, default to standard PIL module to load raster data.\n",
      "WARNING:ibmpairs.paw:GDAL is not available for proper GeoTiff loading, default to standard PIL module to load raster data.\n",
      "WARNING:ibmpairs.paw:GDAL is not available for proper GeoTiff loading, default to standard PIL module to load raster data.\n",
      "WARNING:ibmpairs.paw:GDAL is not available for proper GeoTiff loading, default to standard PIL module to load raster data.\n",
      "WARNING:ibmpairs.paw:GDAL is not available for proper GeoTiff loading, default to standard PIL module to load raster data.\n",
      "INFO:ibmpairs.paw:PAIRS query JSON initialized.\n",
      "WARNING:ibmpairs.paw:Fake submit to PAIRS in order to use (latest) locally cached data.\n",
      "WARNING:ibmpairs.paw:I am sorry, you asked for using the local cache, but your query does not match any existing. I am gonna query PAIRS instead: 'list index out of range'.\n",
      "INFO:ibmpairs.paw:Query successfully submitted, reference ID: 1664164800_35502025\n",
      "INFO:ibmpairs.paw:Bummer, the PAIRS query finished, but you'll never be able to download anything, status code: '21' (NoDataFound)\n",
      "INFO:ibmpairs.paw:PAIRS query JSON initialized.\n",
      "WARNING:ibmpairs.paw:Fake submit to PAIRS in order to use (latest) locally cached data.\n",
      "WARNING:ibmpairs.paw:I am sorry, you asked for using the local cache, but your query does not match any existing. I am gonna query PAIRS instead: 'list index out of range'.\n"
     ]
    },
    {
     "name": "stdout",
     "output_type": "stream",
     "text": [
      "No Sentinel-2 data for this date\n"
     ]
    },
    {
     "name": "stderr",
     "output_type": "stream",
     "text": [
      "INFO:ibmpairs.paw:Query successfully submitted, reference ID: 1664164800_35619494\n",
      "INFO:ibmpairs.paw:Here we go, PAIRS query result successfully downloaded as '1664164800_35619494_abe013c8ce399a3d1ce27b863fb5d22e.zip'.\n",
      "INFO:ibmpairs.paw:Data acknowledgement successfully loaded, print with `self.print_data_acknowledgement()`\n",
      "INFO:ibmpairs.paw:PAIRS meta data loaded from 'output.info'.\n",
      "WARNING:ibmpairs.paw:GDAL is not available for proper GeoTiff loading, default to standard PIL module to load raster data.\n",
      "WARNING:ibmpairs.paw:GDAL is not available for proper GeoTiff loading, default to standard PIL module to load raster data.\n",
      "WARNING:ibmpairs.paw:GDAL is not available for proper GeoTiff loading, default to standard PIL module to load raster data.\n",
      "WARNING:ibmpairs.paw:GDAL is not available for proper GeoTiff loading, default to standard PIL module to load raster data.\n",
      "WARNING:ibmpairs.paw:GDAL is not available for proper GeoTiff loading, default to standard PIL module to load raster data.\n",
      "WARNING:ibmpairs.paw:GDAL is not available for proper GeoTiff loading, default to standard PIL module to load raster data.\n",
      "WARNING:ibmpairs.paw:GDAL is not available for proper GeoTiff loading, default to standard PIL module to load raster data.\n",
      "WARNING:ibmpairs.paw:GDAL is not available for proper GeoTiff loading, default to standard PIL module to load raster data.\n",
      "WARNING:ibmpairs.paw:GDAL is not available for proper GeoTiff loading, default to standard PIL module to load raster data.\n",
      "WARNING:ibmpairs.paw:GDAL is not available for proper GeoTiff loading, default to standard PIL module to load raster data.\n",
      "WARNING:ibmpairs.paw:GDAL is not available for proper GeoTiff loading, default to standard PIL module to load raster data.\n",
      "WARNING:ibmpairs.paw:GDAL is not available for proper GeoTiff loading, default to standard PIL module to load raster data.\n",
      "INFO:ibmpairs.paw:PAIRS query JSON initialized.\n",
      "WARNING:ibmpairs.paw:Fake submit to PAIRS in order to use (latest) locally cached data.\n",
      "WARNING:ibmpairs.paw:I am sorry, you asked for using the local cache, but your query does not match any existing. I am gonna query PAIRS instead: 'list index out of range'.\n",
      "INFO:ibmpairs.paw:Query successfully submitted, reference ID: 1664164800_36114996\n",
      "INFO:ibmpairs.paw:Here we go, PAIRS query result successfully downloaded as '1664164800_36114996_130c4adc879f9f85a32d6713876fc944.zip'.\n",
      "INFO:ibmpairs.paw:Data acknowledgement successfully loaded, print with `self.print_data_acknowledgement()`\n",
      "INFO:ibmpairs.paw:PAIRS meta data loaded from 'output.info'.\n",
      "WARNING:ibmpairs.paw:GDAL is not available for proper GeoTiff loading, default to standard PIL module to load raster data.\n",
      "WARNING:ibmpairs.paw:GDAL is not available for proper GeoTiff loading, default to standard PIL module to load raster data.\n",
      "WARNING:ibmpairs.paw:GDAL is not available for proper GeoTiff loading, default to standard PIL module to load raster data.\n",
      "WARNING:ibmpairs.paw:GDAL is not available for proper GeoTiff loading, default to standard PIL module to load raster data.\n",
      "WARNING:ibmpairs.paw:GDAL is not available for proper GeoTiff loading, default to standard PIL module to load raster data.\n",
      "WARNING:ibmpairs.paw:GDAL is not available for proper GeoTiff loading, default to standard PIL module to load raster data.\n",
      "WARNING:ibmpairs.paw:GDAL is not available for proper GeoTiff loading, default to standard PIL module to load raster data.\n",
      "WARNING:ibmpairs.paw:GDAL is not available for proper GeoTiff loading, default to standard PIL module to load raster data.\n",
      "WARNING:ibmpairs.paw:GDAL is not available for proper GeoTiff loading, default to standard PIL module to load raster data.\n",
      "INFO:ibmpairs.paw:PAIRS query JSON initialized.\n",
      "WARNING:ibmpairs.paw:Fake submit to PAIRS in order to use (latest) locally cached data.\n",
      "WARNING:ibmpairs.paw:I am sorry, you asked for using the local cache, but your query does not match any existing. I am gonna query PAIRS instead: 'list index out of range'.\n",
      "INFO:ibmpairs.paw:Query successfully submitted, reference ID: 1664164800_36149056\n",
      "INFO:ibmpairs.paw:PAIRS query JSON initialized.\n",
      "WARNING:ibmpairs.paw:Fake submit to PAIRS in order to use (latest) locally cached data.\n",
      "WARNING:ibmpairs.paw:I am sorry, you asked for using the local cache, but your query does not match any existing. I am gonna query PAIRS instead: 'list index out of range'.\n"
     ]
    },
    {
     "name": "stdout",
     "output_type": "stream",
     "text": [
      "No Sentinel-2 data for this date\n"
     ]
    },
    {
     "name": "stderr",
     "output_type": "stream",
     "text": [
      "INFO:ibmpairs.paw:Query successfully submitted, reference ID: 1664164800_37960633\n",
      "INFO:ibmpairs.paw:Bummer, the PAIRS query finished, but you'll never be able to download anything, status code: '21' (NoDataFound)\n",
      "INFO:ibmpairs.paw:PAIRS query JSON initialized.\n",
      "WARNING:ibmpairs.paw:Fake submit to PAIRS in order to use (latest) locally cached data.\n",
      "WARNING:ibmpairs.paw:I am sorry, you asked for using the local cache, but your query does not match any existing. I am gonna query PAIRS instead: 'list index out of range'.\n"
     ]
    },
    {
     "name": "stdout",
     "output_type": "stream",
     "text": [
      "No Sentinel-2 data for this date\n"
     ]
    },
    {
     "name": "stderr",
     "output_type": "stream",
     "text": [
      "INFO:ibmpairs.paw:Query successfully submitted, reference ID: 1664164800_38004760\n",
      "INFO:ibmpairs.paw:Bummer, the PAIRS query finished, but you'll never be able to download anything, status code: '21' (NoDataFound)\n",
      "INFO:ibmpairs.paw:PAIRS query JSON initialized.\n",
      "WARNING:ibmpairs.paw:Fake submit to PAIRS in order to use (latest) locally cached data.\n",
      "WARNING:ibmpairs.paw:I am sorry, you asked for using the local cache, but your query does not match any existing. I am gonna query PAIRS instead: 'list index out of range'.\n"
     ]
    },
    {
     "name": "stdout",
     "output_type": "stream",
     "text": [
      "No Sentinel-2 data for this date\n"
     ]
    },
    {
     "name": "stderr",
     "output_type": "stream",
     "text": [
      "INFO:ibmpairs.paw:Query successfully submitted, reference ID: 1664164800_38610327\n",
      "INFO:ibmpairs.paw:Bummer, the PAIRS query finished, but you'll never be able to download anything, status code: '21' (NoDataFound)\n",
      "INFO:ibmpairs.paw:PAIRS query JSON initialized.\n",
      "WARNING:ibmpairs.paw:Fake submit to PAIRS in order to use (latest) locally cached data.\n",
      "WARNING:ibmpairs.paw:I am sorry, you asked for using the local cache, but your query does not match any existing. I am gonna query PAIRS instead: 'list index out of range'.\n"
     ]
    },
    {
     "name": "stdout",
     "output_type": "stream",
     "text": [
      "No Sentinel-2 data for this date\n"
     ]
    },
    {
     "name": "stderr",
     "output_type": "stream",
     "text": [
      "INFO:ibmpairs.paw:Query successfully submitted, reference ID: 1664164800_38687677\n",
      "INFO:ibmpairs.paw:PAIRS query JSON initialized.\n",
      "WARNING:ibmpairs.paw:Fake submit to PAIRS in order to use (latest) locally cached data.\n",
      "WARNING:ibmpairs.paw:I am sorry, you asked for using the local cache, but your query does not match any existing. I am gonna query PAIRS instead: 'list index out of range'.\n"
     ]
    },
    {
     "name": "stdout",
     "output_type": "stream",
     "text": [
      "No Sentinel-2 data for this date\n"
     ]
    },
    {
     "name": "stderr",
     "output_type": "stream",
     "text": [
      "ERROR:ibmpairs.paw:Unable to extract query ID from submit JSON return, the JSON-load is: {'error': \"jwt signature verification failed: 'exp' claim expired at Mon, 26 Sep 2022 14:43:04 GMT\"}\n",
      "INFO:ibmpairs.paw:PAIRS query JSON initialized.\n",
      "WARNING:ibmpairs.paw:Fake submit to PAIRS in order to use (latest) locally cached data.\n",
      "WARNING:ibmpairs.paw:I am sorry, you asked for using the local cache, but your query does not match any existing. I am gonna query PAIRS instead: 'list index out of range'.\n"
     ]
    },
    {
     "name": "stdout",
     "output_type": "stream",
     "text": [
      "No Sentinel-2 data for this date\n"
     ]
    },
    {
     "name": "stderr",
     "output_type": "stream",
     "text": [
      "ERROR:ibmpairs.paw:Unable to extract query ID from submit JSON return, the JSON-load is: {'error': \"jwt signature verification failed: 'exp' claim expired at Mon, 26 Sep 2022 14:43:04 GMT\"}\n",
      "INFO:ibmpairs.paw:PAIRS query JSON initialized.\n",
      "WARNING:ibmpairs.paw:Fake submit to PAIRS in order to use (latest) locally cached data.\n",
      "WARNING:ibmpairs.paw:I am sorry, you asked for using the local cache, but your query does not match any existing. I am gonna query PAIRS instead: 'list index out of range'.\n"
     ]
    },
    {
     "name": "stdout",
     "output_type": "stream",
     "text": [
      "No Sentinel-2 data for this date\n"
     ]
    },
    {
     "name": "stderr",
     "output_type": "stream",
     "text": [
      "ERROR:ibmpairs.paw:Unable to extract query ID from submit JSON return, the JSON-load is: {'error': \"jwt signature verification failed: 'exp' claim expired at Mon, 26 Sep 2022 14:43:04 GMT\"}\n",
      "INFO:ibmpairs.paw:PAIRS query JSON initialized.\n",
      "WARNING:ibmpairs.paw:Fake submit to PAIRS in order to use (latest) locally cached data.\n",
      "WARNING:ibmpairs.paw:I am sorry, you asked for using the local cache, but your query does not match any existing. I am gonna query PAIRS instead: 'list index out of range'.\n"
     ]
    },
    {
     "name": "stdout",
     "output_type": "stream",
     "text": [
      "No Sentinel-2 data for this date\n"
     ]
    },
    {
     "name": "stderr",
     "output_type": "stream",
     "text": [
      "ERROR:ibmpairs.paw:Unable to extract query ID from submit JSON return, the JSON-load is: {'error': \"jwt signature verification failed: 'exp' claim expired at Mon, 26 Sep 2022 14:43:04 GMT\"}\n",
      "INFO:ibmpairs.paw:PAIRS query JSON initialized.\n",
      "WARNING:ibmpairs.paw:Fake submit to PAIRS in order to use (latest) locally cached data.\n",
      "WARNING:ibmpairs.paw:I am sorry, you asked for using the local cache, but your query does not match any existing. I am gonna query PAIRS instead: 'list index out of range'.\n"
     ]
    },
    {
     "name": "stdout",
     "output_type": "stream",
     "text": [
      "No Sentinel-2 data for this date\n"
     ]
    },
    {
     "name": "stderr",
     "output_type": "stream",
     "text": [
      "ERROR:ibmpairs.paw:Unable to extract query ID from submit JSON return, the JSON-load is: {'error': \"jwt signature verification failed: 'exp' claim expired at Mon, 26 Sep 2022 14:43:04 GMT\"}\n"
     ]
    },
    {
     "name": "stdout",
     "output_type": "stream",
     "text": [
      "No Sentinel-2 data for this date\n"
     ]
    }
   ],
   "source": [
    "#Authenticate before every query because of the time-out problem\n",
    "for bbox, coord in areas.items():\n",
    "    \n",
    "    for single_date in daterange(start_date, end_date):\n",
    "    \n",
    "        # Try Sentinel 2 first\n",
    "    \n",
    "        date = single_date.strftime(iso8601)\n",
    "        querySentinelJson[\"temporal\"][\"intervals\"][0][\"snapshot\"] = date\n",
    "        querySentinelJson[\"spatial\"][\"coordinates\"] = coord\n",
    "        #print(querySentinelJson)\n",
    "        sentinel_check = 0 # to check if there is Sentinel 2 data for this date or not\n",
    "    \n",
    "        try:    \n",
    "            querySentinel = paw.PAIRSQuery(querySentinelJson, PAIRS_SERVER, PAIRS_CREDENTIALS, authType='api-key', overwriteExisting=False)\n",
    "            querySentinel.submit()\n",
    "        \n",
    "            querySentinel.poll_till_finished()\n",
    "            querySentinel.download()\n",
    "            querySentinel.create_layers()\n",
    "            \n",
    "            #Check if the Sentinel folder exists\n",
    "            path_sentinel = 'downloads/SENTINEL 2/'\n",
    "            isExistSentinel = os.path.exists(path_sentinel)                          \n",
    "            \n",
    "            if isExistSentinel == True : \n",
    "                pass\n",
    "            else:\n",
    "                os.makedirs(path_sentinel)\n",
    "                \n",
    "            \n",
    "            #Rename File\n",
    "            old_name = 'downloads/' + str(querySentinel.zipFilePath)\n",
    "            new_name = 'downloads/SENTINEL 2/' + str(date) + '_' + str(coord[0]) + '_' + str(coord[1]) + '_' + str(coord[2]) + '_' + str(coord[3]) + '.zip'\n",
    "            os.rename(old_name, new_name)\n",
    "            \n",
    "            # Could add some data manipulation here and then save the data\n",
    "            sentinel_check = 1\n",
    "        except:\n",
    "            print('No Sentinel-2 data for this date')\n",
    "        \n",
    "    \n",
    "        if sentinel_check:\n",
    "            # Now download ERA 5 for dates of Sentinel 2\n",
    "            date_start = single_date.strftime(iso8601)\n",
    "            date_end = (single_date + timedelta(1)).strftime(iso8601)\n",
    "            queryEraJson[\"temporal\"][\"intervals\"][0][\"start\"] = date_start\n",
    "            queryEraJson[\"temporal\"][\"intervals\"][0][\"end\"] = date_end\n",
    "            queryEraJson[\"spatial\"][\"coordinates\"] = coord\n",
    "            #print(queryJson_era)\n",
    "\n",
    "            try:    \n",
    "                queryEra = paw.PAIRSQuery(queryEraJson, PAIRS_SERVER, PAIRS_CREDENTIALS, authType='api-key', overwriteExisting=False)\n",
    "                queryEra.submit()\n",
    "\n",
    "                queryEra.poll_till_finished()\n",
    "                queryEra.download()\n",
    "                queryEra.create_layers()\n",
    "                \n",
    "                #Check if the ERA folder exists\n",
    "                path_era = 'downloads/ERA5/'\n",
    "                isExistEra = os.path.exists(path_era)                          \n",
    "            \n",
    "                if isExistEra == True : \n",
    "                    pass\n",
    "                else:\n",
    "                    os.makedirs(path_era)\n",
    "                \n",
    "                #Rename File\n",
    "                old_name = 'downloads/' + str(queryEra.zipFilePath)\n",
    "                new_name = 'downloads/ERA5/' + str(date) + '_' + str(coord[0]) + '_' + str(coord[1]) + '_' + str(coord[2]) + '_' + str(coord[3]) + '.zip'\n",
    "                os.rename(old_name, new_name)\n",
    "            \n",
    "                # Could add some data manipulation here and then save the data\n",
    "            except:\n",
    "                print('No ERA 5 data for this date')\n",
    "  "
   ]
  },
  {
   "cell_type": "code",
   "execution_count": null,
   "id": "c63101f6",
   "metadata": {},
   "outputs": [],
   "source": []
  }
 ],
 "metadata": {
  "kernelspec": {
   "display_name": "Python 3 (ipykernel)",
   "language": "python",
   "name": "python3"
  },
  "language_info": {
   "codemirror_mode": {
    "name": "ipython",
    "version": 3
   },
   "file_extension": ".py",
   "mimetype": "text/x-python",
   "name": "python",
   "nbconvert_exporter": "python",
   "pygments_lexer": "ipython3",
   "version": "3.10.4"
  }
 },
 "nbformat": 4,
 "nbformat_minor": 5
}
