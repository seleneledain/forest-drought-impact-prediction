{
 "cells": [
  {
   "cell_type": "code",
   "execution_count": 1,
   "id": "dad3784e",
   "metadata": {},
   "outputs": [],
   "source": [
    "import pandas as pd\n",
    "from ibmpairs import paw, authentication\n",
    "import json\n",
    "import numpy\n",
    "from datetime import datetime, timedelta\n",
    "import logging\n",
    "import matplotlib.pyplot as plt\n",
    "import re\n",
    "import numpy as np\n",
    "import traceback\n",
    "import rasterio\n",
    "import os\n",
    "import zipfile\n",
    "import traceback\n",
    "import zipfile\n",
    "import glob\n",
    "from datetime import date"
   ]
  },
  {
   "cell_type": "code",
   "execution_count": 2,
   "id": "a406cb2f",
   "metadata": {},
   "outputs": [],
   "source": [
    "logging.basicConfig(level=logging.INFO)\n",
    "pawLogger = logging.getLogger('ibmpairs.paw')\n",
    "pawLogger.setLevel(logging.INFO)"
   ]
  },
  {
   "cell_type": "code",
   "execution_count": 3,
   "id": "e5d7f3d2",
   "metadata": {},
   "outputs": [],
   "source": [
    "with open(\"ibmpairskey.txt\", \"r\") as f:\n",
    "    pairs_key = f.read()"
   ]
  },
  {
   "cell_type": "code",
   "execution_count": 4,
   "id": "c911ae42",
   "metadata": {},
   "outputs": [],
   "source": [
    "def authenticate(pairs_key):\n",
    "    \n",
    "    pairs_credentials = authentication.OAuth2(api_key=pairs_key)\n",
    "    auth_header = {'Authorization': f'Bearer {pairs_credentials.jwt_token}'}\n",
    "    PAIRS_SERVER   = 'https://pairs.res.ibm.com'\n",
    "    PAIRS_CREDENTIALS = authentication.OAuth2(api_key=pairs_key)\n",
    "    \n",
    "    return PAIRS_SERVER, PAIRS_CREDENTIALS"
   ]
  },
  {
   "cell_type": "code",
   "execution_count": 5,
   "id": "806480aa",
   "metadata": {},
   "outputs": [],
   "source": [
    "PAIRS_SERVER, PAIRS_CREDENTIALS = authenticate(pairs_key)"
   ]
  },
  {
   "cell_type": "code",
   "execution_count": 6,
   "id": "a8742e6b",
   "metadata": {},
   "outputs": [],
   "source": [
    "# Define date and space parameters\n",
    "date_start, date_end = None, None #Needed for defining the query for ERA5\n",
    "bbox = None\n",
    "iso8601 = '%Y-%m-%dT%H:%M:%SZ'\n",
    "\n",
    "date_red = datetime(2016,8,3)"
   ]
  },
  {
   "cell_type": "code",
   "execution_count": 7,
   "id": "4589e2d1",
   "metadata": {},
   "outputs": [
    {
     "data": {
      "text/plain": [
       "'2016-08-03T00:00:00Z'"
      ]
     },
     "execution_count": 7,
     "metadata": {},
     "output_type": "execute_result"
    }
   ],
   "source": [
    "date_red.strftime(iso8601)"
   ]
  },
  {
   "cell_type": "code",
   "execution_count": 8,
   "id": "578573ec",
   "metadata": {},
   "outputs": [],
   "source": [
    "areas_test_max = {\n",
    "    'bbox_1' : [\"47.2\", \"7\", \"47.3\", \"7.1\" ]\n",
    "    #'bbox_2' : [\"47.20599\",\"7.94597\",\"47.46599\",\"8.20597\"]\n",
    "}"
   ]
  },
  {
   "cell_type": "code",
   "execution_count": 9,
   "id": "aeab6e7c",
   "metadata": {},
   "outputs": [],
   "source": [
    "#Relative Humidity: 100*(EXP((17.625*TD)/(243.04+TD))/EXP((17.625*T)/(243.04+T)))\n",
    "\n",
    "query_vpd_json = {\n",
    "    \"layers\" : [\n",
    "        {     \n",
    "            #Kelvin\n",
    "            \"type\" : \"raster\", \"id\" : \"49423\",\n",
    "            \"aggregation\" : \"Mean\",\n",
    "            \"alias\": \"temperature\",\n",
    "            \"output\" : \"false\"\n",
    "        },\n",
    "        {            \n",
    "            #Kelvin\n",
    "            \"type\" : \"raster\", \"id\" : \"49422\",\n",
    "            \"aggregation\" : \"Mean\",\n",
    "            \"alias\": \"dewpoint\",\n",
    "            \"output\" : \"false\"\n",
    "        },\n",
    "        {\n",
    "            #convert kelvin to rankine\n",
    "            \"alias\": \"temp_rankine\",\n",
    "            \"expression\": \"$temperature * 1.8\"\n",
    "            \n",
    "        },\n",
    "        {\n",
    "            #convert dewpoint kelvin to celcius\n",
    "            \"alias\": \"dewpoint_celcius\",\n",
    "            \"expression\": \"$dewpoint - 273.15\"\n",
    "            \n",
    "        },\n",
    "        {\n",
    "            #calculate saturation\n",
    "            \"alias\": \"saturation\",\n",
    "            \"expression\": \" math:exp(( (math:pow(10,4) * -1.0440397) / $temp_rankine) + -11.29465 + (math:pow(10,-2) * -2.7022355 * $temp_rankine) + (math:pow(10,-5) * 1.289036 * math:pow($temp_rankine,2)) + (math:pow(10,-9) * -2.4780681 * math:pow($temp_rankine,3)) + (6.5459673 * math:log($temp_rankine))) \"\n",
    "        },\n",
    "        {\n",
    "            #convert kelvin to celcius\n",
    "            \"alias\": \"temp_celcius\",\n",
    "            \"expression\": \"$temperature - 273.15\"\n",
    "            \n",
    "        },\n",
    "        {\n",
    "            #calculate relative humidty\n",
    "            \"alias\": \"relative_humidity\",\n",
    "            \"expression\": \"100 * (math:exp((17.625 * $dewpoint_celcius) / (243.04 + $dewpoint_celcius)) / (math:exp((17.625 * $temp_celcius) /(243.04 + $temp_celcius))))\"\n",
    "            \n",
    "        },\n",
    "        {\n",
    "            #calculate partial presurre\n",
    "            \"alias\": \"partial_pressure\",\n",
    "            \"expression\": \"$saturation * ($relative_humidity / 100) \"\n",
    "            \n",
    "        },\n",
    "        {\n",
    "            #calculate vapour pressure deficit\n",
    "            \"alias\": \"vpd\",\n",
    "            \"expression\": \"$saturation * (1-($relative_humidity /100))\" \n",
    "            #or, vpd = $saturation - $partial_pressure\n",
    "            \n",
    "        },\n",
    "               \n",
    "    ],\n",
    "    \"name\": \"math_sample\",\n",
    "    \"spatial\" : {\"type\" : \"square\",  \"coordinates\" : bbox }, \n",
    "    \"temporal\" : {\"intervals\" : [\n",
    "      {\"start\" : date_start, \"end\" : date_end}\n",
    "  ]}\n",
    "}"
   ]
  },
  {
   "cell_type": "code",
   "execution_count": 10,
   "id": "3782ba13",
   "metadata": {},
   "outputs": [],
   "source": [
    "# Function that sets the date range\n",
    "def daterange(start_date, end_date):\n",
    "    for n in range(int((end_date - start_date).days)):\n",
    "        yield start_date + timedelta(n)"
   ]
  },
  {
   "cell_type": "code",
   "execution_count": 11,
   "id": "dff32abf",
   "metadata": {},
   "outputs": [],
   "source": [
    "from datetime import date\n",
    "# Define start and end date\n",
    "start_date = date(2019, 10, 5)\n",
    "end_date = date(2019, 10, 7)\n",
    "\n",
    "iso8601 = '%Y-%m-%dT%H:%M:%SZ'"
   ]
  },
  {
   "cell_type": "code",
   "execution_count": 12,
   "id": "25a9e54d",
   "metadata": {},
   "outputs": [
    {
     "name": "stdout",
     "output_type": "stream",
     "text": [
      "Trying for date 2019-10-05\n"
     ]
    },
    {
     "name": "stderr",
     "output_type": "stream",
     "text": [
      "INFO:ibmpairs.paw:PAIRS query JSON initialized.\n",
      "INFO:ibmpairs.paw:Download directory './downloads' created.\n",
      "WARNING:ibmpairs.paw:Fake submit to PAIRS in order to use (latest) locally cached data.\n",
      "WARNING:ibmpairs.paw:I am sorry, you asked for using the local cache, but your query does not match any existing. I am gonna query PAIRS instead: 'list index out of range'.\n",
      "INFO:ibmpairs.paw:Query successfully submitted, reference ID: 1666324800_39115011\n",
      "INFO:ibmpairs.paw:Here we go, PAIRS query result successfully downloaded as '1666324800_39115011_25ed55dc01e9e34073ddf8f81296f62d.zip'.\n",
      "INFO:ibmpairs.paw:Data acknowledgement successfully loaded, print with `self.print_data_acknowledgement()`\n",
      "INFO:ibmpairs.paw:PAIRS meta data loaded from 'output.info'.\n",
      "WARNING:ibmpairs.paw:GDAL is not available for proper GeoTiff loading, default to standard PIL module to load raster data.\n",
      "WARNING:ibmpairs.paw:GDAL is not available for proper GeoTiff loading, default to standard PIL module to load raster data.\n",
      "WARNING:ibmpairs.paw:GDAL is not available for proper GeoTiff loading, default to standard PIL module to load raster data.\n",
      "WARNING:ibmpairs.paw:GDAL is not available for proper GeoTiff loading, default to standard PIL module to load raster data.\n",
      "WARNING:ibmpairs.paw:GDAL is not available for proper GeoTiff loading, default to standard PIL module to load raster data.\n",
      "WARNING:ibmpairs.paw:GDAL is not available for proper GeoTiff loading, default to standard PIL module to load raster data.\n",
      "WARNING:ibmpairs.paw:GDAL is not available for proper GeoTiff loading, default to standard PIL module to load raster data.\n"
     ]
    },
    {
     "name": "stdout",
     "output_type": "stream",
     "text": [
      "Trying for date 2019-10-06\n"
     ]
    },
    {
     "name": "stderr",
     "output_type": "stream",
     "text": [
      "INFO:ibmpairs.paw:PAIRS query JSON initialized.\n",
      "WARNING:ibmpairs.paw:Fake submit to PAIRS in order to use (latest) locally cached data.\n",
      "WARNING:ibmpairs.paw:I am sorry, you asked for using the local cache, but your query does not match any existing. I am gonna query PAIRS instead: 'list index out of range'.\n",
      "INFO:ibmpairs.paw:Query successfully submitted, reference ID: 1666324800_39149523\n",
      "INFO:ibmpairs.paw:Here we go, PAIRS query result successfully downloaded as '1666324800_39149523_67ff286cc740d8b40ec9076eac4ec5b0.zip'.\n",
      "INFO:ibmpairs.paw:Data acknowledgement successfully loaded, print with `self.print_data_acknowledgement()`\n",
      "INFO:ibmpairs.paw:PAIRS meta data loaded from 'output.info'.\n",
      "WARNING:ibmpairs.paw:GDAL is not available for proper GeoTiff loading, default to standard PIL module to load raster data.\n",
      "WARNING:ibmpairs.paw:GDAL is not available for proper GeoTiff loading, default to standard PIL module to load raster data.\n",
      "WARNING:ibmpairs.paw:GDAL is not available for proper GeoTiff loading, default to standard PIL module to load raster data.\n",
      "WARNING:ibmpairs.paw:GDAL is not available for proper GeoTiff loading, default to standard PIL module to load raster data.\n",
      "WARNING:ibmpairs.paw:GDAL is not available for proper GeoTiff loading, default to standard PIL module to load raster data.\n",
      "WARNING:ibmpairs.paw:GDAL is not available for proper GeoTiff loading, default to standard PIL module to load raster data.\n",
      "WARNING:ibmpairs.paw:GDAL is not available for proper GeoTiff loading, default to standard PIL module to load raster data.\n"
     ]
    }
   ],
   "source": [
    "# 1st loop: Loop through regions (Currently it is just one region)\n",
    "# 2nd loop: For the current region, loop through days\n",
    "\n",
    "for bbox, coord in areas_test_max.items():\n",
    "    for single_date in daterange(start_date, end_date):\n",
    "        \n",
    "        print(f'Trying for date {single_date}')\n",
    "        \n",
    "        #Authenticate pairs before every query\n",
    "        PAIRS_SERVER, PAIRS_CREDENTIALS = authenticate(pairs_key)\n",
    "        \n",
    "        #Set the date range\n",
    "        date_start = single_date.strftime(iso8601)\n",
    "        date_end = (single_date + timedelta(1)).strftime(iso8601)\n",
    "\n",
    "        #Fill the placeholders in the query\n",
    "        query_vpd_json[\"temporal\"][\"intervals\"][0][\"start\"] = date_start\n",
    "        query_vpd_json[\"temporal\"][\"intervals\"][0][\"end\"] = date_end\n",
    "        query_vpd_json[\"spatial\"][\"coordinates\"] = coord\n",
    "        \n",
    "        #Turn query to an actual json\n",
    "        #query_json = json.dumps(queryEraJson_3)\n",
    "        \n",
    "        #Submit query\n",
    "        query_vpd = paw.PAIRSQuery(query_vpd_json, PAIRS_SERVER, PAIRS_CREDENTIALS, authType='api-key', overwriteExisting=False)\n",
    "        query_vpd.submit()\n",
    "\n",
    "        query_vpd.poll_till_finished()\n",
    "        query_vpd.download()\n",
    "        query_vpd.create_layers()"
   ]
  },
  {
   "cell_type": "code",
   "execution_count": 15,
   "id": "ef8a35b2",
   "metadata": {},
   "outputs": [
    {
     "data": {
      "text/plain": [
       "{'Expression-temp_rankine[temp_rankine]-Exp': array([[nan, nan, nan, ..., nan, nan, nan],\n",
       "        [nan, nan, nan, ..., nan, nan, nan],\n",
       "        [nan, nan, nan, ..., nan, nan, nan],\n",
       "        ...,\n",
       "        [nan, nan, nan, ..., nan, nan, nan],\n",
       "        [nan, nan, nan, ..., nan, nan, nan],\n",
       "        [nan, nan, nan, ..., nan, nan, nan]]),\n",
       " 'Expression-temp_celcius[temp_celcius]-Exp': array([[nan, nan, nan, ..., nan, nan, nan],\n",
       "        [nan, nan, nan, ..., nan, nan, nan],\n",
       "        [nan, nan, nan, ..., nan, nan, nan],\n",
       "        ...,\n",
       "        [nan, nan, nan, ..., nan, nan, nan],\n",
       "        [nan, nan, nan, ..., nan, nan, nan],\n",
       "        [nan, nan, nan, ..., nan, nan, nan]]),\n",
       " 'Expression-partial_pressure[partial_pressure]-Exp': array([[nan, nan, nan, ..., nan, nan, nan],\n",
       "        [nan, nan, nan, ..., nan, nan, nan],\n",
       "        [nan, nan, nan, ..., nan, nan, nan],\n",
       "        ...,\n",
       "        [nan, nan, nan, ..., nan, nan, nan],\n",
       "        [nan, nan, nan, ..., nan, nan, nan],\n",
       "        [nan, nan, nan, ..., nan, nan, nan]]),\n",
       " 'Expression-dewpoint_celcius[dewpoint_celcius]-Exp': array([[nan, nan, nan, ..., nan, nan, nan],\n",
       "        [nan, nan, nan, ..., nan, nan, nan],\n",
       "        [nan, nan, nan, ..., nan, nan, nan],\n",
       "        ...,\n",
       "        [nan, nan, nan, ..., nan, nan, nan],\n",
       "        [nan, nan, nan, ..., nan, nan, nan],\n",
       "        [nan, nan, nan, ..., nan, nan, nan]]),\n",
       " 'Expression-saturation[saturation]-Exp': array([[nan, nan, nan, ..., nan, nan, nan],\n",
       "        [nan, nan, nan, ..., nan, nan, nan],\n",
       "        [nan, nan, nan, ..., nan, nan, nan],\n",
       "        ...,\n",
       "        [nan, nan, nan, ..., nan, nan, nan],\n",
       "        [nan, nan, nan, ..., nan, nan, nan],\n",
       "        [nan, nan, nan, ..., nan, nan, nan]]),\n",
       " 'Expression-vpd[vpd]-Exp': array([[nan, nan, nan, ..., nan, nan, nan],\n",
       "        [nan, nan, nan, ..., nan, nan, nan],\n",
       "        [nan, nan, nan, ..., nan, nan, nan],\n",
       "        ...,\n",
       "        [nan, nan, nan, ..., nan, nan, nan],\n",
       "        [nan, nan, nan, ..., nan, nan, nan],\n",
       "        [nan, nan, nan, ..., nan, nan, nan]]),\n",
       " 'Expression-relative_humidity[relative_humidity]-Exp': array([[nan, nan, nan, ..., nan, nan, nan],\n",
       "        [nan, nan, nan, ..., nan, nan, nan],\n",
       "        [nan, nan, nan, ..., nan, nan, nan],\n",
       "        ...,\n",
       "        [nan, nan, nan, ..., nan, nan, nan],\n",
       "        [nan, nan, nan, ..., nan, nan, nan],\n",
       "        [nan, nan, nan, ..., nan, nan, nan]])}"
      ]
     },
     "execution_count": 15,
     "metadata": {},
     "output_type": "execute_result"
    }
   ],
   "source": [
    "query_vpd.data"
   ]
  },
  {
   "cell_type": "code",
   "execution_count": 17,
   "id": "a7a6fe1c",
   "metadata": {},
   "outputs": [
    {
     "data": {
      "text/plain": [
       "array([9.68776989, 9.82855034, 9.42827988, 9.60317039])"
      ]
     },
     "execution_count": 17,
     "metadata": {},
     "output_type": "execute_result"
    }
   ],
   "source": [
    "dewpoint_celcius = query_vpd.data['Expression-dewpoint_celcius[dewpoint_celcius]-Exp']\n",
    "dewpoint_celcius[~np.isnan(dewpoint_celcius)]"
   ]
  },
  {
   "cell_type": "code",
   "execution_count": 18,
   "id": "698a1fe6",
   "metadata": {},
   "outputs": [
    {
     "data": {
      "text/plain": [
       "array([10.64000034, 10.90443993, 10.53555012, 10.8597002 ])"
      ]
     },
     "execution_count": 18,
     "metadata": {},
     "output_type": "execute_result"
    }
   ],
   "source": [
    "temp_celcius = query_vpd.data['Expression-temp_celcius[temp_celcius]-Exp']\n",
    "temp_celcius[~np.isnan(temp_celcius)]"
   ]
  },
  {
   "cell_type": "code",
   "execution_count": 19,
   "id": "07f76eb5",
   "metadata": {},
   "outputs": [
    {
     "data": {
      "text/plain": [
       "array([93.83592987, 93.07452393, 92.85902405, 91.95146942])"
      ]
     },
     "execution_count": 19,
     "metadata": {},
     "output_type": "execute_result"
    }
   ],
   "source": [
    "relative_humidity = query_vpd.data['Expression-relative_humidity[relative_humidity]-Exp']\n",
    "relative_humidity[~np.isnan(relative_humidity)]"
   ]
  },
  {
   "cell_type": "code",
   "execution_count": 22,
   "id": "b5b09f8b",
   "metadata": {},
   "outputs": [
    {
     "data": {
      "text/plain": [
       "array([510.82199097, 511.29800415, 510.63400269, 511.21746826])"
      ]
     },
     "execution_count": 22,
     "metadata": {},
     "output_type": "execute_result"
    }
   ],
   "source": [
    "temp_rankine = query_vpd.data['Expression-temp_rankine[temp_rankine]-Exp']\n",
    "temp_rankine[~np.isnan(temp_rankine)]"
   ]
  },
  {
   "cell_type": "code",
   "execution_count": 20,
   "id": "b4beb0be",
   "metadata": {},
   "outputs": [
    {
     "data": {
      "text/plain": [
       "array([0.18588842, 0.18919078, 0.18459827, 0.18862846])"
      ]
     },
     "execution_count": 20,
     "metadata": {},
     "output_type": "execute_result"
    }
   ],
   "source": [
    "saturation_pressure = query_vpd.data['Expression-saturation[saturation]-Exp']\n",
    "saturation_pressure[~np.isnan(saturation_pressure)]"
   ]
  },
  {
   "cell_type": "code",
   "execution_count": 21,
   "id": "45825935",
   "metadata": {},
   "outputs": [
    {
     "data": {
      "text/plain": [
       "array([0.01145829, 0.01310236, 0.01318212, 0.01518182])"
      ]
     },
     "execution_count": 21,
     "metadata": {},
     "output_type": "execute_result"
    }
   ],
   "source": [
    "vpd = query_vpd.data['Expression-vpd[vpd]-Exp']\n",
    "vpd[~np.isnan(vpd)]"
   ]
  },
  {
   "cell_type": "code",
   "execution_count": null,
   "id": "0ccf1060",
   "metadata": {},
   "outputs": [],
   "source": []
  }
 ],
 "metadata": {
  "kernelspec": {
   "display_name": "Python 3 (ipykernel)",
   "language": "python",
   "name": "python3"
  },
  "language_info": {
   "codemirror_mode": {
    "name": "ipython",
    "version": 3
   },
   "file_extension": ".py",
   "mimetype": "text/x-python",
   "name": "python",
   "nbconvert_exporter": "python",
   "pygments_lexer": "ipython3",
   "version": "3.10.4"
  }
 },
 "nbformat": 4,
 "nbformat_minor": 5
}
