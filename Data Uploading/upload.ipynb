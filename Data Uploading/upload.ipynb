{
 "cells": [
  {
   "cell_type": "code",
   "execution_count": 17,
   "metadata": {},
   "outputs": [],
   "source": [
    "import pandas as pd\n",
    "from ibmpairs import paw, authentication\n",
    "import json\n",
    "import numpy as np\n",
    "import logging\n",
    "import traceback\n",
    "import os\n",
    "import glob\n",
    "import requests"
   ]
  },
  {
   "cell_type": "code",
   "execution_count": 18,
   "metadata": {},
   "outputs": [],
   "source": [
    "import logging\n",
    "\n",
    "logging.basicConfig(level=logging.DEBUG)\n",
    "logging.getLogger('ibm_s3transfer').setLevel(logging.INFO)\n",
    "logging.getLogger('ibm_botocore').setLevel(logging.INFO)\n",
    "logging.getLogger('ibm_boto3').setLevel(logging.INFO)\n",
    "logging.getLogger('urllib3').setLevel(logging.INFO)"
   ]
  },
  {
   "cell_type": "code",
   "execution_count": 19,
   "metadata": {
    "tags": []
   },
   "outputs": [],
   "source": [
    "logging.basicConfig(level=logging.INFO)\n",
    "pawLogger = logging.getLogger('ibmpairs.paw')\n",
    "pawLogger.setLevel(logging.INFO)\n",
    "\n",
    "with open(\"ibmpairskey.txt\", \"r\") as f:\n",
    "    pairs_key = f.read()\n",
    "    \n",
    "def authenticate(pairs_key):\n",
    "    \n",
    "    pairs_credentials = authentication.OAuth2(api_key=pairs_key)\n",
    "    auth_header = {'Authorization': f'Bearer {pairs_credentials.jwt_token}'}\n",
    "    PAIRS_SERVER   = 'https://pairs.res.ibm.com'\n",
    "    PAIRS_CREDENTIALS = authentication.OAuth2(api_key=pairs_key)\n",
    "    \n",
    "    return PAIRS_SERVER, PAIRS_CREDENTIALS\n",
    "\n",
    "#authenticate(pairs_key)"
   ]
  },
  {
   "cell_type": "markdown",
   "metadata": {
    "tags": []
   },
   "source": [
    "# First, create datalayers"
   ]
  },
  {
   "cell_type": "code",
   "execution_count": 32,
   "metadata": {
    "tags": []
   },
   "outputs": [
    {
     "name": "stdout",
     "output_type": "stream",
     "text": [
      "access_token: eyJhbGciOiJSUzI1NiIsImtpZCI6IjJENDA5QTlBNjc1MzhBOTU0QUFDRjMyMkU1NjZDNENGOUZENkNBMzIiLCJ0eXAiOiJhdCtqd3QiLCJ4NXQiOiJMVUNhbW1kVGlwVktyUE1pNVdiRXo1X1d5akkifQ.eyJuYmYiOjE2NjcyOTg5MzUsImV4cCI6MTY2NzMwMjUzNSwiaXNzIjoiaHR0cHM6Ly9hdXRoLWIyYi10d2MuaWJtLmNvbSIsImF1ZCI6WyJhY2Nlc3M6YWdybyIsImlibS1wYWlycy1hcGkiLCJwaG9lbml4LWFwaSJdLCJjbGllbnRfaWQiOiJpYm0tcGFpcnMiLCJzdWIiOiJlZmMzYTJjYy1kZTE3LTRlMjktYWE2Yi0zZGU5YzNkM2VlMmUiLCJhdXRoX3RpbWUiOjE2NjcyOTg5MzUsImlkcCI6ImxvY2FsIiwiYXBwbGljYXRpb25zIjoiW1wiQUxFUlRDT05TT0xFXCIsXCJXT0NfSU5URUdSQVRJT05cIixcIklCTVBBSVJTXCIsXCJBR1JPX0FQSVwiLFwiQURNSU5JU1RSQVRJT05cIixcIk9QU0RBU0hCT0FSRFwiLFwiQ0FSQk9OX0FQSVwiLFwiUEFOR0VBXCIsXCJEQVRBSU5URUdSQVRJT05QT1JUQUxcIl0iLCJyb2xlcyI6Ilt7XCJhcHBsaWNhdGlvbklkXCI6XCJBTEVSVENPTlNPTEVcIixcInJvbGVzXCI6W119LHtcImFwcGxpY2F0aW9uSWRcIjpcIkFETUlOSVNUUkFUSU9OXCIsXCJyb2xlc1wiOltcIk5PQUNDRVNTXCJdfSx7XCJhcHBsaWNhdGlvbklkXCI6XCJDQVJCT05fQVBJXCIsXCJyb2xlc1wiOltcIkFETUlOXCJdfSx7XCJhcHBsaWNhdGlvbklkXCI6XCJPUFNEQVNIQk9BUkRcIixcInJvbGVzXCI6W1wiREFTSEJPQVJEQ1JFQVRPUlwiXX0se1wiYXBwbGljYXRpb25JZFwiOlwiSUJNUEFJUlNcIixcInJvbGVzXCI6W1wiUmVhZGVyXCJdfSx7XCJhcHBsaWNhdGlvbklkXCI6XCJXT0NfSU5URUdSQVRJT05cIixcInJvbGVzXCI6W1wiR2VuZXJhbCBVc2VyXCJdfSx7XCJhcHBsaWNhdGlvbklkXCI6XCJBR1JPX0FQSVwiLFwicm9sZXNcIjpbXCJBRE1JTlwiXX1dIiwiYWNjb3VudCI6IjhmMGUzMWQyLTI1NDQtNDgxMi05ZWFkLWYxYzRkOWQ5M2YwZCIsImFjY291bnRfbmFtZSI6IndvY0RlbW9Db25mZXJlbmNlIiwic2NvcGUiOlsiY3VzdG9tLnByb2ZpbGUiLCJlbWFpbCIsIm9wZW5pZCIsInByb2ZpbGUiLCJhY2Nlc3M6YWdybyIsImlibS1wYWlycy1hcGkiLCJwaG9lbml4LWFwaSIsIm9mZmxpbmVfYWNjZXNzIl0sImFtciI6WyJhcGlrZXkiXX0.iQOtWCID4oKo6rzHS04ltU-Pq9TQFcW6IJWtZ0ud1BbTwMPI-TwVuqGd7gVYIOFU7kg0BgxrXIS2rYRmyO8wX4w7UFjK6r6xC0KQ5Q9E5SqWdMdn0ZbBn6nGWciTnkNP5BYGga5ybvQf6rUBNC3FJPJ81jcgOlc3lNEk-gscqc_yg7EeL2spSYSBiTQAljw984Qcxu3MhR2gY9lys4_aNG0bVpW551B6f7TwmzGmhYih7ALR0cPJIE7HZB_xJfkpPD5k5hGcSU8gZSz_BId6WtJie7YkaV2A6UWBb-k8NJKkIWduh8IPB3iPlINcztyDEmclFMr8gPnxyXF-n5z0iw\n",
      "refresh_token: uS2GYQyGXkRzAGnpdkk58hCuoDyvQTq5KKCRnpOpN3Y\n"
     ]
    }
   ],
   "source": [
    "# Get access token\n",
    "\n",
    "AUTH_PROVIDER_BASE = 'https://auth-b2b-twc.ibm.com'\n",
    "PAIRS_API_KEY = pairs_key\n",
    "\n",
    "auth_response = requests.post(    \n",
    "    AUTH_PROVIDER_BASE + '/connect/token',\n",
    "    headers={'Content-Type': 'application/x-www-form-urlencoded'},\n",
    "    data=[\n",
    "        ('client_id', 'ibm-pairs'),\n",
    "        ('grant_type', 'apikey'),\n",
    "        ('apikey', PAIRS_API_KEY)])\n",
    "\n",
    "auth_obj = auth_response.json()\n",
    "access_token = auth_obj.get('access_token')\n",
    "refresh_token = auth_obj.get('refresh_token')\n",
    "print('access_token: {}'.format(access_token))\n",
    "print('refresh_token: {}'.format(refresh_token))"
   ]
  },
  {
   "cell_type": "code",
   "execution_count": null,
   "metadata": {},
   "outputs": [],
   "source": [
    "import json\n",
    "\n",
    "with open('layers.json') as data_file:    \n",
    "    data = json.load(data_file)\n",
    "\n",
    "count = 0    \n",
    "for layer in data['layers']:\n",
    "    json_layer = {\n",
    "        \"layerType\": \"Raster\",\n",
    "        \"layers\": [layer]\n",
    "    }\n",
    "    # If you want to create one layer at the time and stop at every new layer\n",
    "    if count==38:\n",
    "        break\n",
    "    else:\n",
    "        count+=1"
   ]
  },
  {
   "cell_type": "code",
   "execution_count": null,
   "metadata": {},
   "outputs": [],
   "source": [
    "json_layer"
   ]
  },
  {
   "cell_type": "code",
   "execution_count": null,
   "metadata": {},
   "outputs": [],
   "source": [
    "dataset_id = '588'\n",
    "api_response = requests.post(\n",
    "    'https://pairs.res.ibm.com/v2/datasets/{}/datalayers'.format(dataset_id),\n",
    "    headers = {\n",
    "        'Authorization':'Bearer {}'.format(access_token),\n",
    "        'Content-Type': 'application/json'\n",
    "    },\n",
    "    json = json_layer\n",
    ")"
   ]
  },
  {
   "cell_type": "code",
   "execution_count": null,
   "metadata": {},
   "outputs": [],
   "source": [
    "api_response # 200 id success"
   ]
  },
  {
   "cell_type": "code",
   "execution_count": null,
   "metadata": {},
   "outputs": [],
   "source": [
    "# Creating all the layers at once\n",
    "\n",
    "for layer in data['layers']:\n",
    "    json_layer = {\n",
    "        \"layerType\": \"Raster\",\n",
    "        \"layers\": [layer]\n",
    "    }\n",
    "    dataset_id = '588'\n",
    "    api_response = requests.post(\n",
    "        'https://pairs.res.ibm.com/v2/datasets/{}/datalayers'.format(dataset_id),\n",
    "        headers = {\n",
    "            'Authorization':'Bearer {}'.format(access_token),\n",
    "            'Content-Type': 'application/json'\n",
    "        },\n",
    "        json = json_layer\n",
    "    )\n",
    "    print(api_response)"
   ]
  },
  {
   "cell_type": "markdown",
   "metadata": {},
   "source": [
    "### Update/correct a layer "
   ]
  },
  {
   "cell_type": "code",
   "execution_count": 33,
   "metadata": {},
   "outputs": [],
   "source": [
    "# Give the fields that need to be updated\n",
    "json_corrected = {\n",
    "    \"description_short\": \"10m resolution map of the forest composition\",\n",
    "    \"description_long\": \"10m resolution map of the forest composition. Data is between 0 and 100, representing the fraction of broadleaved trees (as opposed to coniferous). NA is no forest. Study restricted to vegetation above 3m.\"\n",
    "}"
   ]
  },
  {
   "cell_type": "code",
   "execution_count": 34,
   "metadata": {},
   "outputs": [
    {
     "name": "stdout",
     "output_type": "stream",
     "text": [
      "<Response [200]>\n"
     ]
    }
   ],
   "source": [
    "layer_id = '51702'\n",
    "api_response = requests.put(\n",
    "    'https://pairs.res.ibm.com/v2/datalayers/{}'.format(layer_id),\n",
    "    headers = {\n",
    "        'Authorization':'Bearer {}'.format(access_token),\n",
    "        'Content-Type': 'application/json'\n",
    "    },\n",
    "    json = json_corrected\n",
    ")\n",
    "print(api_response)"
   ]
  },
  {
   "cell_type": "code",
   "execution_count": null,
   "metadata": {
    "tags": []
   },
   "outputs": [],
   "source": [
    "# Correcting PAIRS level of soil maps\n",
    "\n",
    "layer_ids = ['51693', '51694', '51695', '51696', '51697', '51698', '51692', '51658', '51659', '51660', '51661', '51662', '51663', \n",
    "             '51664', '51665', '51666', '51667', '51668', '51669', '51670', '51671', '51672', '51673', '51674', '51675', '51676',\n",
    "             '51677', '51682' , '51683', '51684', '51685', '51686', '51687', '51688', '51689', '51690', '51691']\n",
    "\n",
    "json_corrected = {\n",
    "    \"level\": \"22\"\n",
    "}\n",
    "\n",
    "for layer_id in layer_ids:\n",
    "    api_response = requests.put(\n",
    "        'https://pairs.res.ibm.com/v2/datalayers/{}'.format(layer_id),\n",
    "        headers = {\n",
    "            'Authorization':'Bearer {}'.format(access_token),\n",
    "            'Content-Type': 'application/json'\n",
    "        },\n",
    "        json = json_corrected\n",
    "    )\n",
    "    print(api_response)"
   ]
  },
  {
   "cell_type": "code",
   "execution_count": null,
   "metadata": {
    "tags": []
   },
   "outputs": [],
   "source": [
    "# Correcting upload interpolation method\n",
    "\n",
    "layer_ids = ['51693', '51694', '51695', '51696', '51697', '51698', '51692', '51658', '51659', '51660', '51661', '51662', '51663', \n",
    "             '51664', '51665', '51666', '51667', '51668', '51669', '51670', '51671', '51672', '51673', '51674', '51675', '51676',\n",
    "             '51677', '51682' , '51683', '51684', '51685', '51686', '51687', '51688', '51689', '51690', '51691']\n",
    "\n",
    "json_corrected = {\n",
    "    \"upload_interpolation\": \"bilinear\"\n",
    "}\n",
    "\n",
    "for layer_id in layer_ids:\n",
    "    api_response = requests.put(\n",
    "        'https://pairs.res.ibm.com/v2/datalayers/{}'.format(layer_id),\n",
    "        headers = {\n",
    "            'Authorization':'Bearer {}'.format(access_token),\n",
    "            'Content-Type': 'application/json'\n",
    "        },\n",
    "        json = json_corrected\n",
    "    )\n",
    "    print(api_response)"
   ]
  },
  {
   "cell_type": "markdown",
   "metadata": {},
   "source": [
    "### Increase number of layers possible in dataset"
   ]
  },
  {
   "cell_type": "code",
   "execution_count": null,
   "metadata": {},
   "outputs": [],
   "source": [
    "new_max = {\n",
    "    \"maxLayers\" : 55\n",
    "}"
   ]
  },
  {
   "cell_type": "code",
   "execution_count": null,
   "metadata": {},
   "outputs": [],
   "source": [
    "dataset_id = '588'\n",
    "api_response = requests.put(\n",
    "    'https://pairs.res.ibm.com/v2/datasets/{}'.format(dataset_id),\n",
    "    headers = {\n",
    "        'Authorization':'Bearer {}'.format(access_token),\n",
    "        'Content-Type': 'application/json'\n",
    "    },\n",
    "    json = new_max\n",
    ")\n",
    "print(api_response)"
   ]
  },
  {
   "cell_type": "markdown",
   "metadata": {},
   "source": [
    "# Uploading to IBM PAIRS\n",
    "\n",
    "This notebook illustrates how to use the `uploads` module to upload to IBM PAIRS via IBM Cloud Object Store (COS)."
   ]
  },
  {
   "cell_type": "code",
   "execution_count": 20,
   "metadata": {},
   "outputs": [],
   "source": [
    "#from ibmpairs import uploads\n",
    "import uploads_key_auth as uploads #local script\n",
    "import logging\n",
    "from pathlib import Path"
   ]
  },
  {
   "cell_type": "markdown",
   "metadata": {},
   "source": [
    "We want full debug logging for the uploads module."
   ]
  },
  {
   "cell_type": "code",
   "execution_count": 21,
   "metadata": {},
   "outputs": [],
   "source": [
    "#logging.basicConfig(level=logging.DEBUG)"
   ]
  },
  {
   "cell_type": "markdown",
   "metadata": {},
   "source": [
    "However, we want these other modules to be quiet."
   ]
  },
  {
   "cell_type": "code",
   "execution_count": 22,
   "metadata": {},
   "outputs": [],
   "source": [
    "logging.getLogger('ibm_s3transfer').setLevel(logging.INFO)\n",
    "logging.getLogger('ibm_botocore').setLevel(logging.INFO)\n",
    "logging.getLogger('ibm_boto3').setLevel(logging.INFO)\n",
    "logging.getLogger('urllib3').setLevel(logging.INFO)"
   ]
  },
  {
   "cell_type": "markdown",
   "metadata": {},
   "source": [
    "## Credentials\n",
    "\n",
    "Not surprisingly, we need a whole host of credentials. The first 7 of these are COS related, the final is just PAIRS username&password."
   ]
  },
  {
   "cell_type": "code",
   "execution_count": 23,
   "metadata": {},
   "outputs": [],
   "source": [
    "apikey = \"FzmaPxVOTb6_LOH1AqNggpFwER7n61EISx1_TqrQugKU\"\n",
    "resourceInstanceID = \"crn:v1:bluemix:public:cloud-object-storage:global:a/045077ab9f1a4dcfafa2c58389d3d639:11a6c883-43a0-4758-a264-6568f2b5ad9a::\"\n",
    "authEndpoint = \"https://iam.eu-de.bluemix.net/oidc/token\"\n",
    "endpoint = \"https://s3.eu-de.cloud-object-storage.appdomain.cloud\"\n",
    "bucketName = \"drought\"\n",
    "accessKeyID = \"b9f5af1d0bae45e4bbd9a58420a6190c\"\n",
    "secretAccessKey = \"53faf26559acb6e0752d16d869cabff2016a1991b97d216a\""
   ]
  },
  {
   "cell_type": "code",
   "execution_count": 24,
   "metadata": {},
   "outputs": [],
   "source": [
    "import os, json, logging, sys, traceback, asyncio, aiohttp, warnings\n",
    "\n",
    "# Get access token\n",
    "\n",
    "AUTH_PROVIDER_BASE = 'https://auth-b2b-twc.ibm.com'\n",
    "PAIRS_API_KEY = pairs_key\n",
    "\n",
    "auth_response = requests.post(    \n",
    "    AUTH_PROVIDER_BASE + '/connect/token',\n",
    "    headers={'Content-Type': 'application/x-www-form-urlencoded'},\n",
    "    data=[\n",
    "        ('client_id', 'ibm-pairs'),\n",
    "        ('grant_type', 'apikey'),\n",
    "        ('apikey', PAIRS_API_KEY)])\n",
    "\n",
    "auth_obj = auth_response.json()\n",
    "access_token = auth_obj.get('access_token')\n",
    "refresh_token = auth_obj.get('refresh_token')\n",
    "\n",
    "pairsAuthHeader = {\n",
    "        'Authorization':'Bearer {}'.format(access_token),\n",
    "        'Content-Type': 'application/json'\n",
    "    }"
   ]
  },
  {
   "cell_type": "markdown",
   "metadata": {},
   "source": [
    "## Uploading"
   ]
  },
  {
   "cell_type": "markdown",
   "metadata": {},
   "source": [
    "### Create .meta.json files for each file to upload\n",
    "\n",
    "Need to create a `.meta.json` file for each data file"
   ]
  },
  {
   "cell_type": "code",
   "execution_count": null,
   "metadata": {},
   "outputs": [],
   "source": [
    "path_file = '/Users/led/Desktop/Master_Thesis/uploads to PAIRS.xlsx'\n",
    "data_dir = '/Users/led/Desktop/Master_Thesis/Data/new_layers/'\n",
    "file_to_id = pd.read_excel(path_file)"
   ]
  },
  {
   "cell_type": "code",
   "execution_count": null,
   "metadata": {
    "tags": []
   },
   "outputs": [],
   "source": [
    "for idx, row in file_to_id.iterrows():\n",
    "    meta_json = {\n",
    "        \"datalayer_id\": [str(int(row[\"PAIRS ID\"]))],\n",
    "        \"pairsdatatype\": \"2draster\",\n",
    "        \"datainterpolation\": \"bilinear\",\n",
    "        \"timestamp\": str(row[\"Timestamp\"]),\n",
    "    }\n",
    "    \n",
    "    # Serializing json\n",
    "    json_object = json.dumps(meta_json, indent=4)\n",
    "\n",
    "    # Writing to sample.json\n",
    "    file_prefix = row[\"Processed data (uploaded to PAIRS)\"]\n",
    "    with open(data_dir + f\"{file_prefix}.meta.json\", \"w\") as outfile:\n",
    "        outfile.write(json_object)"
   ]
  },
  {
   "cell_type": "markdown",
   "metadata": {},
   "source": [
    "### Uploading local data via IBM COS\n",
    "\n",
    "To start, we initialize a `CosBucket` object. This simply soaks up all those pesky credentials we had to define above."
   ]
  },
  {
   "cell_type": "code",
   "execution_count": null,
   "metadata": {},
   "outputs": [],
   "source": [
    "cosBucket = uploads.IBMCosBucket(\n",
    "    apikey, resourceInstanceID, authEndpoint, endpoint,\n",
    "    bucketName, accessKeyID, secretAccessKey\n",
    ")"
   ]
  },
  {
   "cell_type": "markdown",
   "metadata": {},
   "source": [
    "For now, we want to upload 3 files from our local disk. For each of these, there is a `.meta.json` file in the same location, which contains meta information in **JSON** format. (I.e. the format accepted by the web uploader.)"
   ]
  },
  {
   "cell_type": "code",
   "execution_count": 25,
   "metadata": {},
   "outputs": [
    {
     "data": {
      "text/plain": [
       "\"\\n'/Users/led/Desktop/Master_Thesis/Data/new_layers/Vegetationshoehenmodell_2021_10m_LFI_ID164_19_LV95_reprojected.tiff',\\n'/Users/led/Desktop/Master_Thesis/Data/new_layers/Waldmischungsgrad_2018_10m_2056_reprojected.tiff',\\n'/Users/led/Desktop/Master_Thesis/Data/new_layers/corg-gehalt-final-0_5-rf_reprojected.tiff',\\n'/Users/led/Desktop/Master_Thesis/Data/new_layers/corg-gehalt-final-5_15-rf_reprojected.tiff',\\n'/Users/led/Desktop/Master_Thesis/Data/new_layers/corg-gehalt-final-15_30-rf_reprojected.tiff',\\n'/Users/led/Desktop/Master_Thesis/Data/new_layers/corg-gehalt-final-30_60-rf_reprojected.tiff',\\n'/Users/led/Desktop/Master_Thesis/Data/new_layers/corg-gehalt-final-60_100-rf_reprojected.tiff',\\n'/Users/led/Desktop/Master_Thesis/Data/new_layers/corg-gehalt-final-100_200-rf_reprojected.tiff'\\n'/Users/led/Desktop/Master_Thesis/Data/new_layers/mittlere-gruendigkeit-p-rf_reprojected.tiff',\\n'/Users/led/Desktop/Master_Thesis/Data/new_layers/ph-cacl2-0_5-rf_reprojected.tiff',\\n'/Users/led/Desktop/Master_Thesis/Data/new_layers/ph-cacl2-5_15-rf_reprojected.tiff',\\n'/Users/led/Desktop/Master_Thesis/Data/new_layers/ph-cacl2-15_30-rf_reprojected.tiff',\\n'/Users/led/Desktop/Master_Thesis/Data/new_layers/ph-cacl2-30_60-rf_reprojected.tiff',\\n'/Users/led/Desktop/Master_Thesis/Data/new_layers/ph-cacl2-60_100-rf_reprojected.tiff',\\n'/Users/led/Desktop/Master_Thesis/Data/new_layers/ph-cacl2-100_200-rf_reprojected.tiff',\\n'/Users/led/Desktop/Master_Thesis/Data/new_layers/sand-final-0_5-rf_reprojected.tiff',\\n'/Users/led/Desktop/Master_Thesis/Data/new_layers/sand-final-5_15-rf_reprojected.tiff',\\n'/Users/led/Desktop/Master_Thesis/Data/new_layers/sand-final-15_30-rf_reprojected.tiff',\\n'/Users/led/Desktop/Master_Thesis/Data/new_layers/sand-final-30_60-rf_reprojected.tiff',\\n'/Users/led/Desktop/Master_Thesis/Data/new_layers/sand-final-60_100-rf_reprojected.tiff',\\n'/Users/led/Desktop/Master_Thesis/Data/new_layers/sand-final-100_200-rf_reprojected.tiff',\\n'/Users/led/Desktop/Master_Thesis/Data/new_layers/skelettgehalt-0_5-rf_reprojected.tiff',\\n'/Users/led/Desktop/Master_Thesis/Data/new_layers/skelettgehalt-5_15-rf_reprojected.tiff',\\n'/Users/led/Desktop/Master_Thesis/Data/new_layers/skelettgehalt-15_30-rf_reprojected.tiff',\\n'/Users/led/Desktop/Master_Thesis/Data/new_layers/skelettgehalt-30_60-rf_reprojected.tiff',\\n'/Users/led/Desktop/Master_Thesis/Data/new_layers/skelettgehalt-60_100-rf_reprojected.tiff',\\n'/Users/led/Desktop/Master_Thesis/Data/new_layers/skelettgehalt-100_200-rf_reprojected.tiff',\\n'/Users/led/Desktop/Master_Thesis/Data/new_layers/ton-final-0_5-rf_reprojected.tiff',\\n'/Users/led/Desktop/Master_Thesis/Data/new_layers/ton-final-5_15-rf_reprojected.tiff',\\n'/Users/led/Desktop/Master_Thesis/Data/new_layers/ton-final-15_30-rf_reprojected.tiff',\\n'/Users/led/Desktop/Master_Thesis/Data/new_layers/ton-final-30_60-rf_reprojected.tiff',\\n'/Users/led/Desktop/Master_Thesis/Data/new_layers/ton-final-60_100-rf_reprojected.tiff',\\n'/Users/led/Desktop/Master_Thesis/Data/new_layers/ton-final-100_200-rf_reprojected.tiff',\\n'/Users/led/Desktop/Master_Thesis/Data/new_layers/trd-feinerde-final-0_5-rf_reprojected.tiff',\\n'/Users/led/Desktop/Master_Thesis/Data/new_layers/trd-feinerde-final-5_15-rf_reprojected.tiff',\\n'/Users/led/Desktop/Master_Thesis/Data/new_layers/trd-feinerde-final-15_30-rf_reprojected.tiff',\\n'/Users/led/Desktop/Master_Thesis/Data/new_layers/trd-feinerde-final-30_60-rf_reprojected.tiff',\\n'/Users/led/Desktop/Master_Thesis/Data/new_layers/trd-feinerde-final-60_100-rf_reprojected.tiff',\\n'/Users/led/Desktop/Master_Thesis/Data/new_layers/trd-feinerde-final-100_200-rf_reprojected.tiff'\\n\""
      ]
     },
     "execution_count": 25,
     "metadata": {},
     "output_type": "execute_result"
    }
   ],
   "source": [
    "filesToUpload = [\n",
    "    '/Users/led/Desktop/Master_Thesis/Data/new_layers/Vegetationshoehenmodell_2021_10m_LFI_ID164_19_LV95_reprojected.tiff'\n",
    "]\n",
    "\n",
    "\"\"\"\n",
    "'/Users/led/Desktop/Master_Thesis/Data/new_layers/Vegetationshoehenmodell_2021_10m_LFI_ID164_19_LV95_reprojected.tiff',\n",
    "'/Users/led/Desktop/Master_Thesis/Data/new_layers/Waldmischungsgrad_2018_10m_2056_reprojected.tiff',\n",
    "'/Users/led/Desktop/Master_Thesis/Data/new_layers/corg-gehalt-final-0_5-rf_reprojected.tiff',\n",
    "'/Users/led/Desktop/Master_Thesis/Data/new_layers/corg-gehalt-final-5_15-rf_reprojected.tiff',\n",
    "'/Users/led/Desktop/Master_Thesis/Data/new_layers/corg-gehalt-final-15_30-rf_reprojected.tiff',\n",
    "'/Users/led/Desktop/Master_Thesis/Data/new_layers/corg-gehalt-final-30_60-rf_reprojected.tiff',\n",
    "'/Users/led/Desktop/Master_Thesis/Data/new_layers/corg-gehalt-final-60_100-rf_reprojected.tiff',\n",
    "'/Users/led/Desktop/Master_Thesis/Data/new_layers/corg-gehalt-final-100_200-rf_reprojected.tiff'\n",
    "'/Users/led/Desktop/Master_Thesis/Data/new_layers/mittlere-gruendigkeit-p-rf_reprojected.tiff',\n",
    "'/Users/led/Desktop/Master_Thesis/Data/new_layers/ph-cacl2-0_5-rf_reprojected.tiff',\n",
    "'/Users/led/Desktop/Master_Thesis/Data/new_layers/ph-cacl2-5_15-rf_reprojected.tiff',\n",
    "'/Users/led/Desktop/Master_Thesis/Data/new_layers/ph-cacl2-15_30-rf_reprojected.tiff',\n",
    "'/Users/led/Desktop/Master_Thesis/Data/new_layers/ph-cacl2-30_60-rf_reprojected.tiff',\n",
    "'/Users/led/Desktop/Master_Thesis/Data/new_layers/ph-cacl2-60_100-rf_reprojected.tiff',\n",
    "'/Users/led/Desktop/Master_Thesis/Data/new_layers/ph-cacl2-100_200-rf_reprojected.tiff',\n",
    "'/Users/led/Desktop/Master_Thesis/Data/new_layers/sand-final-0_5-rf_reprojected.tiff',\n",
    "'/Users/led/Desktop/Master_Thesis/Data/new_layers/sand-final-5_15-rf_reprojected.tiff',\n",
    "'/Users/led/Desktop/Master_Thesis/Data/new_layers/sand-final-15_30-rf_reprojected.tiff',\n",
    "'/Users/led/Desktop/Master_Thesis/Data/new_layers/sand-final-30_60-rf_reprojected.tiff',\n",
    "'/Users/led/Desktop/Master_Thesis/Data/new_layers/sand-final-60_100-rf_reprojected.tiff',\n",
    "'/Users/led/Desktop/Master_Thesis/Data/new_layers/sand-final-100_200-rf_reprojected.tiff',\n",
    "'/Users/led/Desktop/Master_Thesis/Data/new_layers/skelettgehalt-0_5-rf_reprojected.tiff',\n",
    "'/Users/led/Desktop/Master_Thesis/Data/new_layers/skelettgehalt-5_15-rf_reprojected.tiff',\n",
    "'/Users/led/Desktop/Master_Thesis/Data/new_layers/skelettgehalt-15_30-rf_reprojected.tiff',\n",
    "'/Users/led/Desktop/Master_Thesis/Data/new_layers/skelettgehalt-30_60-rf_reprojected.tiff',\n",
    "'/Users/led/Desktop/Master_Thesis/Data/new_layers/skelettgehalt-60_100-rf_reprojected.tiff',\n",
    "'/Users/led/Desktop/Master_Thesis/Data/new_layers/skelettgehalt-100_200-rf_reprojected.tiff',\n",
    "'/Users/led/Desktop/Master_Thesis/Data/new_layers/ton-final-0_5-rf_reprojected.tiff',\n",
    "'/Users/led/Desktop/Master_Thesis/Data/new_layers/ton-final-5_15-rf_reprojected.tiff',\n",
    "'/Users/led/Desktop/Master_Thesis/Data/new_layers/ton-final-15_30-rf_reprojected.tiff',\n",
    "'/Users/led/Desktop/Master_Thesis/Data/new_layers/ton-final-30_60-rf_reprojected.tiff',\n",
    "'/Users/led/Desktop/Master_Thesis/Data/new_layers/ton-final-60_100-rf_reprojected.tiff',\n",
    "'/Users/led/Desktop/Master_Thesis/Data/new_layers/ton-final-100_200-rf_reprojected.tiff',\n",
    "'/Users/led/Desktop/Master_Thesis/Data/new_layers/trd-feinerde-final-0_5-rf_reprojected.tiff',\n",
    "'/Users/led/Desktop/Master_Thesis/Data/new_layers/trd-feinerde-final-5_15-rf_reprojected.tiff',\n",
    "'/Users/led/Desktop/Master_Thesis/Data/new_layers/trd-feinerde-final-15_30-rf_reprojected.tiff',\n",
    "'/Users/led/Desktop/Master_Thesis/Data/new_layers/trd-feinerde-final-30_60-rf_reprojected.tiff',\n",
    "'/Users/led/Desktop/Master_Thesis/Data/new_layers/trd-feinerde-final-60_100-rf_reprojected.tiff',\n",
    "'/Users/led/Desktop/Master_Thesis/Data/new_layers/trd-feinerde-final-100_200-rf_reprojected.tiff'\n",
    "\"\"\""
   ]
  },
  {
   "cell_type": "markdown",
   "metadata": {},
   "source": [
    "We finally create a `PAIRSUpload` object, that will upload our 3 files."
   ]
  },
  {
   "cell_type": "code",
   "execution_count": 26,
   "metadata": {},
   "outputs": [
    {
     "name": "stderr",
     "output_type": "stream",
     "text": [
      "INFO:uploads_key_auth:'PAIRSUpload'. Calling 'run' will upload 1 files. Total raw data volume 2809128206 bytes. Depending on the PAIRS resolution level of target layer(s), the data volume might be significantly different in IBM PAIRS.\n"
     ]
    }
   ],
   "source": [
    "uploadFromLocal = uploads.PAIRSUpload.fromLocal(\n",
    "    cosBucket, pairsAuthHeader, False, fileList=filesToUpload\n",
    ")"
   ]
  },
  {
   "cell_type": "markdown",
   "metadata": {},
   "source": [
    "We will now run the actual upload. `uploads` uses asynchronous python calls. The benefit is that we get a level of parallelization without using threads. In the following, we use 3 workers. Because this is a coroutine, we have to *await* it."
   ]
  },
  {
   "cell_type": "code",
   "execution_count": 27,
   "metadata": {},
   "outputs": [
    {
     "name": "stderr",
     "output_type": "stream",
     "text": [
      "DEBUG:uploads_key_auth:Commencing upload run.\n",
      "DEBUG:uploads_key_auth:Initialized ClientSession.\n",
      "DEBUG:uploads_key_auth:Worker picked up /Users/led/Desktop/Master_Thesis/Data/new_layers/Vegetationshoehenmodell_2021_10m_LFI_ID164_19_LV95_reprojected.tiff.\n",
      "DEBUG:uploads_key_auth:Pushing Vegetationshoehenmodell_2021_10m_LFI_ID164_19_LV95_reprojected.tiff to COS.\n",
      "DEBUG:uploads_key_auth:Pushing Vegetationshoehenmodell_2021_10m_LFI_ID164_19_LV95_reprojected.tiff.meta.json to COS.\n",
      "DEBUG:uploads_key_auth:Worker moved Vegetationshoehenmodell_2021_10m_LFI_ID164_19_LV95_reprojected.tiff to COS.\n",
      "DEBUG:uploads_key_auth:Worker will obtain meta data for Vegetationshoehenmodell_2021_10m_LFI_ID164_19_LV95_reprojected.tiff.\n",
      "DEBUG:uploads_key_auth:Worker has obtained meta data for Vegetationshoehenmodell_2021_10m_LFI_ID164_19_LV95_reprojected.tiff.\n",
      "DEBUG:uploads_key_auth:Starting PAIRS upload.\n",
      "DEBUG:uploads_key_auth:Submitting upload request to PAIRS.\n",
      "DEBUG:uploads_key_auth:Upload request submitted to PAIRS. Status 201.\n",
      "DEBUG:uploads_key_auth:Upload request submitted. JSON response decoded.\n",
      "DEBUG:uploads_key_auth:Registered PAIRS upload iqyjwfzbsgsnmrlcdafvnltpovravyvszlogmupq.\n",
      "DEBUG:uploads_key_auth:Checking PAIRS upload status iqyjwfzbsgsnmrlcdafvnltpovravyvszlogmupq.\n",
      "DEBUG:uploads_key_auth:Checking PAIRS upload status iqyjwfzbsgsnmrlcdafvnltpovravyvszlogmupq.\n",
      "DEBUG:uploads_key_auth:Checking PAIRS upload status iqyjwfzbsgsnmrlcdafvnltpovravyvszlogmupq.\n",
      "DEBUG:uploads_key_auth:Checking PAIRS upload status iqyjwfzbsgsnmrlcdafvnltpovravyvszlogmupq.\n",
      "DEBUG:uploads_key_auth:Checking PAIRS upload status iqyjwfzbsgsnmrlcdafvnltpovravyvszlogmupq.\n",
      "DEBUG:uploads_key_auth:Checking PAIRS upload status iqyjwfzbsgsnmrlcdafvnltpovravyvszlogmupq.\n",
      "DEBUG:uploads_key_auth:Checking PAIRS upload status iqyjwfzbsgsnmrlcdafvnltpovravyvszlogmupq.\n",
      "DEBUG:uploads_key_auth:Checking PAIRS upload status iqyjwfzbsgsnmrlcdafvnltpovravyvszlogmupq.\n",
      "DEBUG:uploads_key_auth:Checking PAIRS upload status iqyjwfzbsgsnmrlcdafvnltpovravyvszlogmupq.\n",
      "DEBUG:uploads_key_auth:Checking PAIRS upload status iqyjwfzbsgsnmrlcdafvnltpovravyvszlogmupq.\n",
      "DEBUG:uploads_key_auth:Checking PAIRS upload status iqyjwfzbsgsnmrlcdafvnltpovravyvszlogmupq.\n",
      "DEBUG:uploads_key_auth:Checking PAIRS upload status iqyjwfzbsgsnmrlcdafvnltpovravyvszlogmupq.\n",
      "DEBUG:uploads_key_auth:Checking PAIRS upload status iqyjwfzbsgsnmrlcdafvnltpovravyvszlogmupq.\n",
      "DEBUG:uploads_key_auth:Checking PAIRS upload status iqyjwfzbsgsnmrlcdafvnltpovravyvszlogmupq.\n",
      "DEBUG:uploads_key_auth:Checking PAIRS upload status iqyjwfzbsgsnmrlcdafvnltpovravyvszlogmupq.\n",
      "DEBUG:uploads_key_auth:Checking PAIRS upload status iqyjwfzbsgsnmrlcdafvnltpovravyvszlogmupq.\n",
      "DEBUG:uploads_key_auth:Checking PAIRS upload status iqyjwfzbsgsnmrlcdafvnltpovravyvszlogmupq.\n",
      "DEBUG:uploads_key_auth:Checking PAIRS upload status iqyjwfzbsgsnmrlcdafvnltpovravyvszlogmupq.\n",
      "DEBUG:uploads_key_auth:Checking PAIRS upload status iqyjwfzbsgsnmrlcdafvnltpovravyvszlogmupq.\n",
      "DEBUG:uploads_key_auth:Checking PAIRS upload status iqyjwfzbsgsnmrlcdafvnltpovravyvszlogmupq.\n",
      "DEBUG:uploads_key_auth:Checking PAIRS upload status iqyjwfzbsgsnmrlcdafvnltpovravyvszlogmupq.\n",
      "DEBUG:uploads_key_auth:Checking PAIRS upload status iqyjwfzbsgsnmrlcdafvnltpovravyvszlogmupq.\n",
      "DEBUG:uploads_key_auth:Checking PAIRS upload status iqyjwfzbsgsnmrlcdafvnltpovravyvszlogmupq.\n",
      "DEBUG:uploads_key_auth:Checking PAIRS upload status iqyjwfzbsgsnmrlcdafvnltpovravyvszlogmupq.\n",
      "DEBUG:uploads_key_auth:Checking PAIRS upload status iqyjwfzbsgsnmrlcdafvnltpovravyvszlogmupq.\n",
      "DEBUG:uploads_key_auth:Checking PAIRS upload status iqyjwfzbsgsnmrlcdafvnltpovravyvszlogmupq.\n",
      "DEBUG:uploads_key_auth:Checking PAIRS upload status iqyjwfzbsgsnmrlcdafvnltpovravyvszlogmupq.\n",
      "DEBUG:uploads_key_auth:Checking PAIRS upload status iqyjwfzbsgsnmrlcdafvnltpovravyvszlogmupq.\n",
      "DEBUG:uploads_key_auth:Checking PAIRS upload status iqyjwfzbsgsnmrlcdafvnltpovravyvszlogmupq.\n",
      "DEBUG:uploads_key_auth:Checking PAIRS upload status iqyjwfzbsgsnmrlcdafvnltpovravyvszlogmupq.\n",
      "DEBUG:uploads_key_auth:Checking PAIRS upload status iqyjwfzbsgsnmrlcdafvnltpovravyvszlogmupq.\n",
      "DEBUG:uploads_key_auth:Checking PAIRS upload status iqyjwfzbsgsnmrlcdafvnltpovravyvszlogmupq.\n",
      "DEBUG:uploads_key_auth:Checking PAIRS upload status iqyjwfzbsgsnmrlcdafvnltpovravyvszlogmupq.\n",
      "DEBUG:uploads_key_auth:Checking PAIRS upload status iqyjwfzbsgsnmrlcdafvnltpovravyvszlogmupq.\n",
      "DEBUG:uploads_key_auth:Checking PAIRS upload status iqyjwfzbsgsnmrlcdafvnltpovravyvszlogmupq.\n",
      "DEBUG:uploads_key_auth:Checking PAIRS upload status iqyjwfzbsgsnmrlcdafvnltpovravyvszlogmupq.\n",
      "DEBUG:uploads_key_auth:Checking PAIRS upload status iqyjwfzbsgsnmrlcdafvnltpovravyvszlogmupq.\n",
      "DEBUG:uploads_key_auth:Checking PAIRS upload status iqyjwfzbsgsnmrlcdafvnltpovravyvszlogmupq.\n",
      "DEBUG:uploads_key_auth:Checking PAIRS upload status iqyjwfzbsgsnmrlcdafvnltpovravyvszlogmupq.\n",
      "DEBUG:uploads_key_auth:Checking PAIRS upload status iqyjwfzbsgsnmrlcdafvnltpovravyvszlogmupq.\n",
      "DEBUG:uploads_key_auth:Checking PAIRS upload status iqyjwfzbsgsnmrlcdafvnltpovravyvszlogmupq.\n",
      "DEBUG:uploads_key_auth:Checking PAIRS upload status iqyjwfzbsgsnmrlcdafvnltpovravyvszlogmupq.\n",
      "DEBUG:uploads_key_auth:Checking PAIRS upload status iqyjwfzbsgsnmrlcdafvnltpovravyvszlogmupq.\n",
      "DEBUG:uploads_key_auth:Checking PAIRS upload status iqyjwfzbsgsnmrlcdafvnltpovravyvszlogmupq.\n",
      "DEBUG:uploads_key_auth:Checking PAIRS upload status iqyjwfzbsgsnmrlcdafvnltpovravyvszlogmupq.\n",
      "DEBUG:uploads_key_auth:Checking PAIRS upload status iqyjwfzbsgsnmrlcdafvnltpovravyvszlogmupq.\n",
      "DEBUG:uploads_key_auth:Checking PAIRS upload status iqyjwfzbsgsnmrlcdafvnltpovravyvszlogmupq.\n",
      "DEBUG:uploads_key_auth:Checking PAIRS upload status iqyjwfzbsgsnmrlcdafvnltpovravyvszlogmupq.\n",
      "DEBUG:uploads_key_auth:Checking PAIRS upload status iqyjwfzbsgsnmrlcdafvnltpovravyvszlogmupq.\n",
      "DEBUG:uploads_key_auth:Checking PAIRS upload status iqyjwfzbsgsnmrlcdafvnltpovravyvszlogmupq.\n",
      "DEBUG:uploads_key_auth:Checking PAIRS upload status iqyjwfzbsgsnmrlcdafvnltpovravyvszlogmupq.\n",
      "DEBUG:uploads_key_auth:Checking PAIRS upload status iqyjwfzbsgsnmrlcdafvnltpovravyvszlogmupq.\n",
      "DEBUG:uploads_key_auth:Checking PAIRS upload status iqyjwfzbsgsnmrlcdafvnltpovravyvszlogmupq.\n",
      "DEBUG:uploads_key_auth:Checking PAIRS upload status iqyjwfzbsgsnmrlcdafvnltpovravyvszlogmupq.\n",
      "DEBUG:uploads_key_auth:Checking PAIRS upload status iqyjwfzbsgsnmrlcdafvnltpovravyvszlogmupq.\n",
      "DEBUG:uploads_key_auth:Checking PAIRS upload status iqyjwfzbsgsnmrlcdafvnltpovravyvszlogmupq.\n",
      "DEBUG:uploads_key_auth:Checking PAIRS upload status iqyjwfzbsgsnmrlcdafvnltpovravyvszlogmupq.\n",
      "DEBUG:uploads_key_auth:Checking PAIRS upload status iqyjwfzbsgsnmrlcdafvnltpovravyvszlogmupq.\n",
      "DEBUG:uploads_key_auth:Checking PAIRS upload status iqyjwfzbsgsnmrlcdafvnltpovravyvszlogmupq.\n",
      "DEBUG:uploads_key_auth:Checking PAIRS upload status iqyjwfzbsgsnmrlcdafvnltpovravyvszlogmupq.\n",
      "DEBUG:uploads_key_auth:Checking PAIRS upload status iqyjwfzbsgsnmrlcdafvnltpovravyvszlogmupq.\n",
      "DEBUG:uploads_key_auth:PAIRS upload iqyjwfzbsgsnmrlcdafvnltpovravyvszlogmupq succeeded.\n",
      "DEBUG:uploads_key_auth:Completed PAIRS upload in 1244 sec.\n",
      "DEBUG:uploads_key_auth:Upload of Vegetationshoehenmodell_2021_10m_LFI_ID164_19_LV95_reprojected.tiff succeded.\n",
      "DEBUG:uploads_key_auth:Upload succeded Vegetationshoehenmodell_2021_10m_LFI_ID164_19_LV95_reprojected.tiff.\n",
      "DEBUG:uploads_key_auth:All workers completed processing.\n"
     ]
    }
   ],
   "source": [
    "await uploadFromLocal.run(1)"
   ]
  },
  {
   "cell_type": "markdown",
   "metadata": {},
   "source": [
    "We check if any uploads have not succeeded."
   ]
  },
  {
   "cell_type": "code",
   "execution_count": 30,
   "metadata": {},
   "outputs": [
    {
     "data": {
      "text/plain": [
       "set()"
      ]
     },
     "execution_count": 30,
     "metadata": {},
     "output_type": "execute_result"
    }
   ],
   "source": [
    "{v.remoteObject for v in uploadFromLocal.completedUploads if not v.status == 'SUCCEEDED'}"
   ]
  },
  {
   "cell_type": "code",
   "execution_count": 31,
   "metadata": {},
   "outputs": [
    {
     "data": {
      "text/plain": [
       "[Status = SUCCEEDED localFile = /Users/led/Desktop/Master_Thesis/Data/new_layers/Vegetationshoehenmodell_2021_10m_LFI_ID164_19_LV95_reprojected.tiff remoteObject = Vegetationshoehenmodell_2021_10m_LFI_ID164_19_LV95_reprojected.tiff size = 2809128206 uploadInfo = {'tracking_id': 'iqyjwfzbsgsnmrlcdafvnltpovravyvszlogmupq', 'progress': 100, 'status': 'SUCCEEDED', 'summary': [{'raw_filename': 'qszuvfmnme-mvxajmjezw-1667297494-iqyjwfzbsgsnmrlcdafvnltpovravyvszlogmupq', 'status': 4.0, 'details': 'Finished: Succeeded ingesting file into PAIRS', 'last_updated': '2022-11-01T06:32:08.200536-04:00'}], 'user_tag': '', 'last_updated': '2022-11-01 06:32:08.205069-04:00'} exception = None]"
      ]
     },
     "execution_count": 31,
     "metadata": {},
     "output_type": "execute_result"
    }
   ],
   "source": [
    "uploadFromLocal.completedUploads"
   ]
  },
  {
   "cell_type": "code",
   "execution_count": null,
   "metadata": {},
   "outputs": [],
   "source": [
    "#cosBucket.delete(filename)"
   ]
  },
  {
   "cell_type": "markdown",
   "metadata": {},
   "source": [
    "### Uploading directly from COS\n",
    "\n",
    "We will now upload the same data *again*. However, since the data is already in COS, we will initialize our `PAIRSUplaod` object from COS. This illustrates the alternate use of `PAIRSUpload`. Moreover, we will remove the data from COS afterwards."
   ]
  },
  {
   "cell_type": "code",
   "execution_count": 9,
   "metadata": {},
   "outputs": [],
   "source": [
    "cosBucket = uploads.IBMCosBucket(\n",
    "    apikey, resourceInstanceID, authEndpoint, endpoint,\n",
    "    bucketName, accessKeyID, secretAccessKey\n",
    ")"
   ]
  },
  {
   "cell_type": "code",
   "execution_count": 10,
   "metadata": {},
   "outputs": [
    {
     "name": "stderr",
     "output_type": "stream",
     "text": [
      "INFO:uploads_key_auth:IBMCosBucket with 1 uploadable objects, 2809128206 bytes total.\n"
     ]
    }
   ],
   "source": [
    "cosBucket.updateCosObjects(Prefix='V', MaxKeys=4096)\n",
    "cosObjects = cosBucket.cosObjects()"
   ]
  },
  {
   "cell_type": "code",
   "execution_count": 11,
   "metadata": {},
   "outputs": [
    {
     "name": "stderr",
     "output_type": "stream",
     "text": [
      "INFO:uploads_key_auth:IBMCosBucket with 1 uploadable objects, 2809128206 bytes total.\n",
      "INFO:uploads_key_auth:'PAIRSUpload'. Calling 'run' will upload 1 files. Total raw data volume 2809128206 bytes. Depending on the PAIRS resolution level of target layer(s), the data volume might be significantly different in IBM PAIRS.\n"
     ]
    }
   ],
   "source": [
    "uploadFromCos = uploads.PAIRSUpload.fromCos(\n",
    "    cosBucket, pairsAuthHeader, True, Prefix='V', MaxKeys=4096\n",
    ")"
   ]
  },
  {
   "cell_type": "code",
   "execution_count": 12,
   "metadata": {},
   "outputs": [
    {
     "data": {
      "text/plain": [
       "1"
      ]
     },
     "execution_count": 12,
     "metadata": {},
     "output_type": "execute_result"
    }
   ],
   "source": [
    "len(uploadFromCos.pendingUploads)"
   ]
  },
  {
   "cell_type": "markdown",
   "metadata": {},
   "source": [
    "Once again, we have to await the actual upload. We use one worker. (If you are fancy, you can wrap this with asyncio.create_task and continue doing other stuff in jupyter while this is running.)"
   ]
  },
  {
   "cell_type": "code",
   "execution_count": 13,
   "metadata": {},
   "outputs": [
    {
     "name": "stderr",
     "output_type": "stream",
     "text": [
      "DEBUG:uploads_key_auth:Commencing upload run.\n",
      "DEBUG:uploads_key_auth:Initialized ClientSession.\n",
      "DEBUG:uploads_key_auth:Worker picked up None.\n",
      "DEBUG:uploads_key_auth:Worker will obtain meta data for Vegetationshoehenmodell_2021_10m_LFI_ID164_19_LV95_reprojected.tiff.\n",
      "DEBUG:uploads_key_auth:Worker has obtained meta data for Vegetationshoehenmodell_2021_10m_LFI_ID164_19_LV95_reprojected.tiff.\n",
      "DEBUG:uploads_key_auth:Starting PAIRS upload.\n",
      "DEBUG:uploads_key_auth:Submitting upload request to PAIRS.\n",
      "DEBUG:uploads_key_auth:Upload request submitted to PAIRS. Status 201.\n",
      "DEBUG:uploads_key_auth:Upload request submitted. JSON response decoded.\n",
      "DEBUG:uploads_key_auth:Registered PAIRS upload aybvteuvhscmuzfdiancjmgqmrmvapilkmmcrjqc.\n",
      "DEBUG:uploads_key_auth:Checking PAIRS upload status aybvteuvhscmuzfdiancjmgqmrmvapilkmmcrjqc.\n",
      "DEBUG:uploads_key_auth:Checking PAIRS upload status aybvteuvhscmuzfdiancjmgqmrmvapilkmmcrjqc.\n",
      "DEBUG:uploads_key_auth:Checking PAIRS upload status aybvteuvhscmuzfdiancjmgqmrmvapilkmmcrjqc.\n",
      "DEBUG:uploads_key_auth:Checking PAIRS upload status aybvteuvhscmuzfdiancjmgqmrmvapilkmmcrjqc.\n",
      "DEBUG:uploads_key_auth:Checking PAIRS upload status aybvteuvhscmuzfdiancjmgqmrmvapilkmmcrjqc.\n",
      "DEBUG:uploads_key_auth:Checking PAIRS upload status aybvteuvhscmuzfdiancjmgqmrmvapilkmmcrjqc.\n",
      "DEBUG:uploads_key_auth:Checking PAIRS upload status aybvteuvhscmuzfdiancjmgqmrmvapilkmmcrjqc.\n",
      "DEBUG:uploads_key_auth:Checking PAIRS upload status aybvteuvhscmuzfdiancjmgqmrmvapilkmmcrjqc.\n",
      "DEBUG:uploads_key_auth:Checking PAIRS upload status aybvteuvhscmuzfdiancjmgqmrmvapilkmmcrjqc.\n",
      "DEBUG:uploads_key_auth:Checking PAIRS upload status aybvteuvhscmuzfdiancjmgqmrmvapilkmmcrjqc.\n",
      "DEBUG:uploads_key_auth:Checking PAIRS upload status aybvteuvhscmuzfdiancjmgqmrmvapilkmmcrjqc.\n",
      "DEBUG:uploads_key_auth:Checking PAIRS upload status aybvteuvhscmuzfdiancjmgqmrmvapilkmmcrjqc.\n",
      "DEBUG:uploads_key_auth:Checking PAIRS upload status aybvteuvhscmuzfdiancjmgqmrmvapilkmmcrjqc.\n",
      "DEBUG:uploads_key_auth:Checking PAIRS upload status aybvteuvhscmuzfdiancjmgqmrmvapilkmmcrjqc.\n",
      "DEBUG:uploads_key_auth:Checking PAIRS upload status aybvteuvhscmuzfdiancjmgqmrmvapilkmmcrjqc.\n",
      "DEBUG:uploads_key_auth:Checking PAIRS upload status aybvteuvhscmuzfdiancjmgqmrmvapilkmmcrjqc.\n",
      "DEBUG:uploads_key_auth:Checking PAIRS upload status aybvteuvhscmuzfdiancjmgqmrmvapilkmmcrjqc.\n",
      "DEBUG:uploads_key_auth:Checking PAIRS upload status aybvteuvhscmuzfdiancjmgqmrmvapilkmmcrjqc.\n",
      "DEBUG:uploads_key_auth:Checking PAIRS upload status aybvteuvhscmuzfdiancjmgqmrmvapilkmmcrjqc.\n",
      "DEBUG:uploads_key_auth:Checking PAIRS upload status aybvteuvhscmuzfdiancjmgqmrmvapilkmmcrjqc.\n",
      "DEBUG:uploads_key_auth:Checking PAIRS upload status aybvteuvhscmuzfdiancjmgqmrmvapilkmmcrjqc.\n",
      "DEBUG:uploads_key_auth:Checking PAIRS upload status aybvteuvhscmuzfdiancjmgqmrmvapilkmmcrjqc.\n",
      "DEBUG:uploads_key_auth:Checking PAIRS upload status aybvteuvhscmuzfdiancjmgqmrmvapilkmmcrjqc.\n",
      "DEBUG:uploads_key_auth:Checking PAIRS upload status aybvteuvhscmuzfdiancjmgqmrmvapilkmmcrjqc.\n",
      "DEBUG:uploads_key_auth:Checking PAIRS upload status aybvteuvhscmuzfdiancjmgqmrmvapilkmmcrjqc.\n",
      "DEBUG:uploads_key_auth:Checking PAIRS upload status aybvteuvhscmuzfdiancjmgqmrmvapilkmmcrjqc.\n",
      "DEBUG:uploads_key_auth:Checking PAIRS upload status aybvteuvhscmuzfdiancjmgqmrmvapilkmmcrjqc.\n",
      "DEBUG:uploads_key_auth:Checking PAIRS upload status aybvteuvhscmuzfdiancjmgqmrmvapilkmmcrjqc.\n",
      "DEBUG:uploads_key_auth:Checking PAIRS upload status aybvteuvhscmuzfdiancjmgqmrmvapilkmmcrjqc.\n",
      "DEBUG:uploads_key_auth:Checking PAIRS upload status aybvteuvhscmuzfdiancjmgqmrmvapilkmmcrjqc.\n",
      "DEBUG:uploads_key_auth:Checking PAIRS upload status aybvteuvhscmuzfdiancjmgqmrmvapilkmmcrjqc.\n",
      "DEBUG:uploads_key_auth:Checking PAIRS upload status aybvteuvhscmuzfdiancjmgqmrmvapilkmmcrjqc.\n",
      "DEBUG:uploads_key_auth:Checking PAIRS upload status aybvteuvhscmuzfdiancjmgqmrmvapilkmmcrjqc.\n",
      "DEBUG:uploads_key_auth:Checking PAIRS upload status aybvteuvhscmuzfdiancjmgqmrmvapilkmmcrjqc.\n",
      "DEBUG:uploads_key_auth:Checking PAIRS upload status aybvteuvhscmuzfdiancjmgqmrmvapilkmmcrjqc.\n",
      "DEBUG:uploads_key_auth:Checking PAIRS upload status aybvteuvhscmuzfdiancjmgqmrmvapilkmmcrjqc.\n",
      "DEBUG:uploads_key_auth:Checking PAIRS upload status aybvteuvhscmuzfdiancjmgqmrmvapilkmmcrjqc.\n",
      "DEBUG:uploads_key_auth:PAIRS upload aybvteuvhscmuzfdiancjmgqmrmvapilkmmcrjqc failed.\n",
      "DEBUG:uploads_key_auth:Completed PAIRS upload in 754 sec.\n",
      "DEBUG:uploads_key_auth:Upload of Vegetationshoehenmodell_2021_10m_LFI_ID164_19_LV95_reprojected.tiff failed.\n",
      "WARNING:uploads_key_auth:Upload failed Vegetationshoehenmodell_2021_10m_LFI_ID164_19_LV95_reprojected.tiff.\n",
      "DEBUG:uploads_key_auth:All workers completed processing.\n"
     ]
    }
   ],
   "source": [
    "await uploadFromCos.run(nWorkers=1)"
   ]
  },
  {
   "cell_type": "markdown",
   "metadata": {},
   "source": [
    "Once again, we can verify that all uploads completed running."
   ]
  },
  {
   "cell_type": "code",
   "execution_count": 14,
   "metadata": {},
   "outputs": [
    {
     "data": {
      "text/plain": [
       "{'Vegetationshoehenmodell_2021_10m_LFI_ID164_19_LV95_reprojected.tiff'}"
      ]
     },
     "execution_count": 14,
     "metadata": {},
     "output_type": "execute_result"
    }
   ],
   "source": [
    "{v.remoteObject for v in uploadFromCos.completedUploads if not v.status == 'SUCCEEDED'}"
   ]
  },
  {
   "cell_type": "code",
   "execution_count": 15,
   "metadata": {},
   "outputs": [
    {
     "data": {
      "text/plain": [
       "[Status = FAILED localFile = None remoteObject = Vegetationshoehenmodell_2021_10m_LFI_ID164_19_LV95_reprojected.tiff size = 2809128206 uploadInfo = {'tracking_id': 'aybvteuvhscmuzfdiancjmgqmrmvapilkmmcrjqc', 'progress': 15, 'status': 'RUNNING', 'summary': [{'raw_filename': '1667296107-aybvteuvhscmuzfdiancjmgqmrmvapilkmmcrjqc', 'status': 0.59, 'details': 'File finished downloading from URL.', 'last_updated': '2022-11-01 05:54:19.467038-04:00'}, {'raw_filename': 'zcjxikudvs-ifkpmtlpay-1667296107-aybvteuvhscmuzfdiancjmgqmrmvapilkmmcrjqc', 'status': -3.0, 'details': 'Failed ingesting the file into PAIRS: General Error: ', 'last_updated': '2022-11-01 06:00:40.115877-04:00'}], 'user_tag': '', 'last_updated': '2022-11-01 05:48:27.206451-04:00'} exception = None]"
      ]
     },
     "execution_count": 15,
     "metadata": {},
     "output_type": "execute_result"
    }
   ],
   "source": [
    "uploadFromCos.completedUploads"
   ]
  },
  {
   "cell_type": "code",
   "execution_count": 16,
   "metadata": {},
   "outputs": [
    {
     "name": "stderr",
     "output_type": "stream",
     "text": [
      "DEBUG:uploads_key_auth:Deleting Vegetationshoehenmodell_2021_10m_LFI_ID164_19_LV95_reprojected.tiff and Vegetationshoehenmodell_2021_10m_LFI_ID164_19_LV95_reprojected.tiff.meta.json.\n"
     ]
    }
   ],
   "source": [
    "cosBucket.delete('Vegetationshoehenmodell_2021_10m_LFI_ID164_19_LV95_reprojected.tiff')"
   ]
  },
  {
   "cell_type": "code",
   "execution_count": null,
   "metadata": {},
   "outputs": [],
   "source": []
  }
 ],
 "metadata": {
  "kernelspec": {
   "display_name": "drought",
   "language": "python",
   "name": "drought"
  },
  "language_info": {
   "codemirror_mode": {
    "name": "ipython",
    "version": 3
   },
   "file_extension": ".py",
   "mimetype": "text/x-python",
   "name": "python",
   "nbconvert_exporter": "python",
   "pygments_lexer": "ipython3",
   "version": "3.10.6"
  }
 },
 "nbformat": 4,
 "nbformat_minor": 4
}
