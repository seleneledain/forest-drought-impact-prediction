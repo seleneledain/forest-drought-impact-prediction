{
 "cells": [
  {
   "cell_type": "markdown",
   "id": "75baae52-9cdd-4e55-a2f3-6dab0360830a",
   "metadata": {},
   "source": [
    "# Test whole data creation pipeline"
   ]
  },
  {
   "cell_type": "code",
   "execution_count": 1,
   "id": "5565d3be-8091-4d6d-b339-d529b994c53a",
   "metadata": {},
   "outputs": [
    {
     "ename": "SyntaxError",
     "evalue": "EOL while scanning string literal (drought_impact_dataset_debug2.py, line 411)",
     "output_type": "error",
     "traceback": [
      "Traceback \u001b[0;36m(most recent call last)\u001b[0m:\n",
      "  File \u001b[1;32m\"/u/seleneledain/.conda/envs/drought/lib/python3.8/site-packages/IPython/core/interactiveshell.py\"\u001b[0m, line \u001b[1;32m3553\u001b[0m, in \u001b[1;35mrun_code\u001b[0m\n    exec(code_obj, self.user_global_ns, self.user_ns)\n",
      "\u001b[0;36m  File \u001b[0;32m\"/tmp/ipykernel_3546893/3018529792.py\"\u001b[0;36m, line \u001b[0;32m1\u001b[0;36m, in \u001b[0;35m<cell line: 1>\u001b[0;36m\u001b[0m\n\u001b[0;31m    from drought_impact_dataset_debug2 import *\u001b[0m\n",
      "\u001b[0;36m  File \u001b[0;32m\"/dccstor/cimf/drought_impact/pixel_based/drought_impact_dataset_debug2.py\"\u001b[0;36m, line \u001b[0;32m411\u001b[0m\n\u001b[0;31m    label_list = self.handle_missing_data(label_list, 1, method = \"replicate\u001b[0m\n\u001b[0m                                                                            ^\u001b[0m\n\u001b[0;31mSyntaxError\u001b[0m\u001b[0;31m:\u001b[0m EOL while scanning string literal\n"
     ]
    }
   ],
   "source": [
    "from drought_impact_dataset_debug2 import *\n",
    "from drought_impact_sampler import *\n",
    "from torch.utils.data import DataLoader\n",
    "from utils_pixel import *"
   ]
  },
  {
   "cell_type": "code",
   "execution_count": null,
   "id": "a17df49d-f4e8-477c-aa31-a809f34ef84d",
   "metadata": {},
   "outputs": [],
   "source": [
    "# Create dataset\n",
    "root_dir = '/dccstor/cimf/drought_impact/'\n",
    "sen_path = root_dir+'downloads/SENTINEL 2/'\n",
    "era_path = root_dir+'downloads/ERA5/'\n",
    "dem_path = root_dir+'downloads/DEM_ch/21/'\n",
    "env_path = root_dir+'downloads/ENV_DATA/'\n",
    "ts_delta=10\n",
    "ts_len=3\n",
    "len_preds=1\n",
    "\n",
    "ds = DroughtImpactDataset(s2_path=sen_path, era_path=era_path, dem_path=dem_path, env_path=env_path, focus_list=[[46.907,7.137,47.407,7.637]],\n",
    "                          focus_time =['2015-08-09', '2016-12-08'], ts_delta=10, ts_len=4, ratio=0.05, len_preds=3,  nan_handling=\"mean\")"
   ]
  },
  {
   "cell_type": "code",
   "execution_count": null,
   "id": "4108790a-2c2d-4a3a-9404-4c0e7b4276ce",
   "metadata": {},
   "outputs": [],
   "source": [
    "# Create sampler\n",
    "sampler = DroughtImpactSampler(ds, size=[1,1], length=3, replacement=False, mask_dir=root_dir+'downloads/forest_mask', mask_threshold=0.5, set_seed=False)   #, roi=[46,47,7,7.5])"
   ]
  },
  {
   "cell_type": "code",
   "execution_count": null,
   "id": "26dd0248-f927-4ea9-b408-0c98f8350e10",
   "metadata": {
    "tags": []
   },
   "outputs": [],
   "source": [
    "# Call the dataloader\n",
    "DL = DataLoader(ds, sampler=sampler) \n",
    "# with sampler don't use batch size! Can input batch size in sampler length\n",
    "test = list(DL.__iter__())"
   ]
  },
  {
   "cell_type": "code",
   "execution_count": 2,
   "id": "9087916c-a07c-4c74-8176-023b80e6ee9d",
   "metadata": {},
   "outputs": [
    {
     "ename": "NameError",
     "evalue": "name 'test' is not defined",
     "output_type": "error",
     "traceback": [
      "\u001b[0;31m---------------------------------------------------------------------------\u001b[0m",
      "\u001b[0;31mNameError\u001b[0m                                 Traceback (most recent call last)",
      "\u001b[0;32m/tmp/ipykernel_3546893/866611808.py\u001b[0m in \u001b[0;36m<cell line: 2>\u001b[0;34m()\u001b[0m\n\u001b[1;32m      1\u001b[0m \u001b[0;31m# Look at the batch\u001b[0m\u001b[0;34m\u001b[0m\u001b[0;34m\u001b[0m\u001b[0;34m\u001b[0m\u001b[0m\n\u001b[0;32m----> 2\u001b[0;31m \u001b[0mprint\u001b[0m\u001b[0;34m(\u001b[0m\u001b[0mlen\u001b[0m\u001b[0;34m(\u001b[0m\u001b[0mtest\u001b[0m\u001b[0;34m)\u001b[0m\u001b[0;34m)\u001b[0m \u001b[0;31m# number of samples\u001b[0m\u001b[0;34m\u001b[0m\u001b[0;34m\u001b[0m\u001b[0m\n\u001b[0m\u001b[1;32m      3\u001b[0m \u001b[0mprint\u001b[0m\u001b[0;34m(\u001b[0m\u001b[0mlen\u001b[0m\u001b[0;34m(\u001b[0m\u001b[0mtest\u001b[0m\u001b[0;34m[\u001b[0m\u001b[0;36m0\u001b[0m\u001b[0;34m]\u001b[0m\u001b[0;34m)\u001b[0m\u001b[0;34m)\u001b[0m \u001b[0;31m# each sample contains data and label in a timseries\u001b[0m\u001b[0;34m\u001b[0m\u001b[0;34m\u001b[0m\u001b[0m\n\u001b[1;32m      4\u001b[0m \u001b[0mprint\u001b[0m\u001b[0;34m(\u001b[0m\u001b[0mtest\u001b[0m\u001b[0;34m[\u001b[0m\u001b[0;36m0\u001b[0m\u001b[0;34m]\u001b[0m\u001b[0;34m[\u001b[0m\u001b[0;36m0\u001b[0m\u001b[0;34m]\u001b[0m\u001b[0;34m.\u001b[0m\u001b[0mshape\u001b[0m\u001b[0;34m)\u001b[0m \u001b[0;31m#data (batch, n_bands, height, width)\u001b[0m\u001b[0;34m\u001b[0m\u001b[0;34m\u001b[0m\u001b[0m\n\u001b[1;32m      5\u001b[0m \u001b[0mprint\u001b[0m\u001b[0;34m(\u001b[0m\u001b[0mtest\u001b[0m\u001b[0;34m[\u001b[0m\u001b[0;36m0\u001b[0m\u001b[0;34m]\u001b[0m\u001b[0;34m[\u001b[0m\u001b[0;36m1\u001b[0m\u001b[0;34m]\u001b[0m\u001b[0;34m.\u001b[0m\u001b[0mshape\u001b[0m\u001b[0;34m)\u001b[0m \u001b[0;31m#label\u001b[0m\u001b[0;34m\u001b[0m\u001b[0;34m\u001b[0m\u001b[0m\n",
      "\u001b[0;31mNameError\u001b[0m: name 'test' is not defined"
     ]
    }
   ],
   "source": [
    "# Look at the batch\n",
    "print(len(test)) # number of samples\n",
    "print(len(test[0])) # each sample contains data and label in a timseries\n",
    "print(test[0][0].shape) #data (batch, n_bands, height, width)\n",
    "print(test[0][1].shape) #label"
   ]
  },
  {
   "cell_type": "code",
   "execution_count": null,
   "id": "29654eb6-e674-4477-8930-5602e7ce1ab3",
   "metadata": {},
   "outputs": [],
   "source": [
    "test[0][0]"
   ]
  },
  {
   "cell_type": "code",
   "execution_count": null,
   "id": "3c52b356-7845-4922-802d-bb63066a6783",
   "metadata": {},
   "outputs": [],
   "source": [
    "print(test[1][0].shape) #data (batch nbr, sample_nbr, n_bands, height, width)\n",
    "print(test[1][1].shape) #label"
   ]
  },
  {
   "cell_type": "code",
   "execution_count": null,
   "id": "ee985bd0-b8e1-47a6-b916-470cdec25c36",
   "metadata": {},
   "outputs": [],
   "source": [
    "print(test[2][0].shape) \n",
    "print(test[2][1].shape) "
   ]
  },
  {
   "cell_type": "code",
   "execution_count": null,
   "id": "e4947381-c927-4528-b02a-bc0f1456012f",
   "metadata": {},
   "outputs": [],
   "source": [
    "print(test[0][1]) "
   ]
  },
  {
   "cell_type": "code",
   "execution_count": null,
   "id": "370a8d1a-00bf-4f7a-b4bf-69e3779b2f0e",
   "metadata": {},
   "outputs": [],
   "source": [
    "# each timestamp has the same number of bands now"
   ]
  },
  {
   "cell_type": "code",
   "execution_count": null,
   "id": "0e4d2782-9a87-447f-86ec-69e68626af5e",
   "metadata": {},
   "outputs": [],
   "source": [
    "# Get info on samples used\n",
    "called_samples = [x[2] for x in test]"
   ]
  },
  {
   "cell_type": "code",
   "execution_count": null,
   "id": "fc7d02d4-3fe2-46af-a999-33bda70fcd9d",
   "metadata": {},
   "outputs": [],
   "source": [
    "called_samples # idx, bbox.minx, bbox.miny, bbox.maxx, bbox.maxy"
   ]
  },
  {
   "cell_type": "code",
   "execution_count": null,
   "id": "425e79ab-b52c-46ce-876c-146ab462c2fb",
   "metadata": {},
   "outputs": [],
   "source": [
    "called_samples"
   ]
  },
  {
   "cell_type": "markdown",
   "id": "b9e8d2b0-aa04-4e33-a465-b59463a756c8",
   "metadata": {},
   "source": [
    "## Feature set"
   ]
  },
  {
   "cell_type": "code",
   "execution_count": null,
   "id": "4f5cbef5-b763-4998-90f3-724dec5aeba6",
   "metadata": {
    "tags": []
   },
   "outputs": [],
   "source": [
    "# Checking list of features\n",
    "root_dir = '/dccstor/cimf/drought_impact/'\n",
    "sen_path = root_dir+'downloads/SENTINEL 2/'\n",
    "era_path = root_dir+'downloads/ERA5/'\n",
    "dem_path = root_dir+'downloads/DEM_ch/21/'\n",
    "env_path = root_dir+'downloads/ENV_DATA/'\n",
    "\n",
    "feats = get_features_list(sen_path, era_path, static_paths=[dem_path, env_path])\n",
    "print(len(feats))\n",
    "feats"
   ]
  },
  {
   "cell_type": "code",
   "execution_count": null,
   "id": "2a8c8946-f07f-4855-b9aa-31e78d0c803d",
   "metadata": {},
   "outputs": [],
   "source": [
    "feature_set = [\"MSI\", \"NDMI\", \"NDVIre\", \"NDWI\", \"B11\", \"B12\", \"B2\", \"B3\", \"B4\", \"B5\", \"B6\", \"B7\", \"B8\", \"B8a\", \"CP\", \"NDVI\", \"SCL\",\n",
    "               \"VPDX\", \"VPDN\", \"AWVC\", \"MAXT\", \"MINT\", \"SR\" ,\"SP\", \"T\", \"TCC\", \"TP\", \n",
    "               \"DEM\", \n",
    "               \"CURV17\", \"CURV19\", \"CURV21\", \"EAST17\", \"EAST19\", \"EAST21\", \"NORT17\", \"NORT19\", \"NORT21\", \"RUGG17\", \"RUGG19\", \"RUGG21\", \"SLOP17\", \"SLOP19\", \"SLOP21\", \"TWI17\", \"TWI19\", \"TWI21\",\n",
    "               \"CLAY0_5\", \"CLAY100_200\", \"CLAY15_30\", \"CLAY30_60\", \"CLAY5_15\", \"CLAY60_100\",\n",
    "               \"FED0_5\", \"FED100_200\", \"FED15_30\",  \"FED30_60\", \"FED5_15\", \"FED60_100\",\n",
    "               \"FC\", \"FH\",\n",
    "               \"GRAV0_5\", \"GRAV100_200\", \"GRAV15_30\", \"GRAV30_60\", \"GRAV5_15\", \"GRAV60_100\",\n",
    "               \"SAND0_5\", \"SAND100_200\", \"SAND15_30\", \"SAND30_60\",\"SAND5_15\", \"SAND60_100\",\n",
    "               \"SDEP\",\n",
    "               \"CARB0_5\", \"CARB100_200\", \"CARB15_30\", \"CARB30_60\", \"CARB5_15\", \"CARB60_100\",\n",
    "               \"PH0_5\", \"PH100_200\", \"PH15_30\", \"PH30_60\",\"PH5_15\", \"PH60_100\"]\n",
    "\n",
    "print(len(feature_set))"
   ]
  },
  {
   "cell_type": "code",
   "execution_count": null,
   "id": "9546e723-6e00-4596-9ca0-4190e40f79f8",
   "metadata": {
    "tags": []
   },
   "outputs": [],
   "source": [
    "def get_feat_dict(feature_set):\n",
    "    \"\"\"\n",
    "    Create a mapping feature name - index\n",
    "    \"\"\"\n",
    "    dict_feat = {}\n",
    "    for i, feat in enumerate(feature_set):\n",
    "        dict_feat[feat] = i\n",
    "    return dict_feat\n",
    "\n",
    "get_feat_dict(feature_set)"
   ]
  },
  {
   "cell_type": "markdown",
   "id": "7e923707-f26a-414b-98e3-7fedb6cbedd4",
   "metadata": {},
   "source": [
    "# Batch stats/normalisation"
   ]
  },
  {
   "cell_type": "code",
   "execution_count": null,
   "id": "666197b7-1d89-4d36-8db3-f9d3a4b2f77e",
   "metadata": {
    "tags": []
   },
   "outputs": [],
   "source": [
    "batch_vals, batch_means, batch_stds = batch_stats(DL, bands=[])"
   ]
  },
  {
   "cell_type": "code",
   "execution_count": null,
   "id": "98a9d954-f0e2-41e1-b334-87e9db6e51c3",
   "metadata": {},
   "outputs": [],
   "source": [
    "len(batch_means)"
   ]
  },
  {
   "cell_type": "markdown",
   "id": "1ef45cc5-fe3c-4651-83c9-3e04d59f6c1c",
   "metadata": {},
   "source": [
    "# Dataset class"
   ]
  },
  {
   "cell_type": "code",
   "execution_count": null,
   "id": "53bd2569-a110-413b-978a-3cb32415cffe",
   "metadata": {},
   "outputs": [],
   "source": [
    "from drought_impact_dataset import *"
   ]
  },
  {
   "cell_type": "code",
   "execution_count": null,
   "id": "1f02f9cc-4448-4a24-98e3-20b3f83a0ffa",
   "metadata": {},
   "outputs": [],
   "source": [
    "sen_path = 'downloads/SENTINEL 2/'\n",
    "era_path = 'downloads/ERA5/'\n",
    "dem_path = 'downloads/NASA DEM/'\n",
    "lc_path = 'downloads/LC Copernicus/'\n",
    "#env_path = '/Users/led/Desktop/Master_Thesis/Data/new_layers/'\n",
    "ts_delta=10\n",
    "ts_len=3\n",
    "len_preds=1\n",
    "\n",
    "\"\"\"\n",
    "data_file_extension = \"tiff\"\n",
    "keep_out_list=[]\n",
    "focus_list=[\"46.907_7.137_47.407_7.637\"]\n",
    "focus_time =['2015-01-01', '2015-12-31']\n",
    "ts_delta=10\n",
    "ts_len=20\n",
    "\"\"\"\n",
    "\n",
    "ds = DroughtImpactDataset(s2_path=sen_path, era_path=era_path, dem_path=dem_path, focus_list=[[47.1, 7.2, 47.4, 7.4]],focus_time =['2015-08-09', '2015-09-08'], ts_delta=10, ts_len=3, ratio=0.05, len_preds=1)"
   ]
  },
  {
   "cell_type": "code",
   "execution_count": null,
   "id": "d8d08075-f5d3-437c-9e95-0e814a142d06",
   "metadata": {},
   "outputs": [],
   "source": [
    "ds.list_of_all_geolocations"
   ]
  },
  {
   "cell_type": "code",
   "execution_count": null,
   "id": "acfd1484-79c5-45c5-a723-992934fd3d1b",
   "metadata": {},
   "outputs": [],
   "source": [
    "[ds.list_of_all_geolocations.remove(d) for d in data]"
   ]
  },
  {
   "cell_type": "code",
   "execution_count": null,
   "id": "ade69529-fd65-4087-96e1-8b67a17455e3",
   "metadata": {
    "tags": []
   },
   "outputs": [],
   "source": [
    "data, label = ds.__getitem__([15, [46,7,47,8]])"
   ]
  },
  {
   "cell_type": "code",
   "execution_count": null,
   "id": "7fc97036-bc14-4bf1-afd9-951041fa376c",
   "metadata": {
    "tags": []
   },
   "outputs": [],
   "source": [
    "len(data)"
   ]
  },
  {
   "cell_type": "code",
   "execution_count": null,
   "id": "d82bb815-840f-4ebd-861c-8dafde63ea69",
   "metadata": {
    "tags": []
   },
   "outputs": [],
   "source": [
    "len(label)"
   ]
  },
  {
   "cell_type": "code",
   "execution_count": null,
   "id": "20431c86-04d9-4004-8fcd-0ceea6586c9a",
   "metadata": {},
   "outputs": [],
   "source": [
    "data[4].numpy()[100, 1000]"
   ]
  },
  {
   "cell_type": "code",
   "execution_count": null,
   "id": "868d7ad6-a029-488e-8cb5-6c07e647f1ac",
   "metadata": {},
   "outputs": [],
   "source": [
    "label.shape"
   ]
  },
  {
   "cell_type": "markdown",
   "id": "46456157-4530-4cf3-b931-aa256cad541d",
   "metadata": {},
   "source": [
    "### Check variables"
   ]
  },
  {
   "cell_type": "code",
   "execution_count": null,
   "id": "9d646334-3142-414e-b32d-4335f4848312",
   "metadata": {
    "tags": []
   },
   "outputs": [],
   "source": [
    "ds.timestamps"
   ]
  },
  {
   "cell_type": "code",
   "execution_count": null,
   "id": "b4284ec9-dbde-4cfe-86fc-adeec1a3f501",
   "metadata": {},
   "outputs": [],
   "source": [
    "ds.unique_timestamps"
   ]
  },
  {
   "cell_type": "code",
   "execution_count": null,
   "id": "c8a96b8f-b5dd-4686-820a-0a97912431c0",
   "metadata": {},
   "outputs": [],
   "source": [
    "ds.s2_path"
   ]
  },
  {
   "cell_type": "code",
   "execution_count": null,
   "id": "d332ba90-bb1b-4761-a1fb-32d8201c0160",
   "metadata": {},
   "outputs": [],
   "source": [
    "ds.df['timestamp'][0]"
   ]
  },
  {
   "cell_type": "code",
   "execution_count": null,
   "id": "e9ea62d3-391b-4ba8-a58b-d7a741804561",
   "metadata": {},
   "outputs": [],
   "source": [
    "ds.list_of_all_geolocations"
   ]
  },
  {
   "cell_type": "code",
   "execution_count": null,
   "id": "8185360e-9707-4d59-abf6-547ad122ed31",
   "metadata": {},
   "outputs": [],
   "source": [
    "ds.dataset_paths"
   ]
  },
  {
   "cell_type": "code",
   "execution_count": null,
   "id": "d0950304-02b5-448a-a074-37680d94df23",
   "metadata": {},
   "outputs": [],
   "source": [
    "ds.data_NOB"
   ]
  },
  {
   "cell_type": "code",
   "execution_count": null,
   "id": "7952970e-417b-43dd-b5bb-275d953bd453",
   "metadata": {},
   "outputs": [],
   "source": [
    "ds.timestamps"
   ]
  },
  {
   "cell_type": "code",
   "execution_count": null,
   "id": "98bcbf1f-666c-4962-accf-8870d9ffc431",
   "metadata": {},
   "outputs": [],
   "source": [
    "ds.unique_timestamps"
   ]
  },
  {
   "cell_type": "code",
   "execution_count": null,
   "id": "875a4564-3a82-41e2-a880-fc1680dea079",
   "metadata": {},
   "outputs": [],
   "source": [
    "ds.folders"
   ]
  },
  {
   "cell_type": "code",
   "execution_count": null,
   "id": "b987252b-e830-42d9-b1be-e2e41b6a0b32",
   "metadata": {
    "tags": []
   },
   "outputs": [],
   "source": [
    "ds.dict_ts_missing_dates['sub_missing']"
   ]
  },
  {
   "cell_type": "code",
   "execution_count": null,
   "id": "19cc22f4-60fb-461e-9c9e-8dc46ac37724",
   "metadata": {
    "tags": []
   },
   "outputs": [],
   "source": [
    "test = ds.get_forecast_timeseries()\n",
    "test['sub_forecast']"
   ]
  },
  {
   "cell_type": "code",
   "execution_count": null,
   "id": "51919e9b-d8b9-49ee-ac5e-6b0c7eac75b2",
   "metadata": {
    "tags": []
   },
   "outputs": [],
   "source": [
    "test['sub_timeseries']"
   ]
  },
  {
   "cell_type": "markdown",
   "id": "2d42c940-2f06-4f23-b31c-3e2d3e8f78ad",
   "metadata": {},
   "source": [
    "### Test functions"
   ]
  },
  {
   "cell_type": "code",
   "execution_count": null,
   "id": "35280517-cc6c-4fd8-800a-0ef38d52f492",
   "metadata": {},
   "outputs": [],
   "source": [
    "ds.__len__()"
   ]
  },
  {
   "cell_type": "code",
   "execution_count": null,
   "id": "7e41b7de-96eb-447d-b286-0a3693d48cfa",
   "metadata": {},
   "outputs": [],
   "source": [
    "ds.folders"
   ]
  },
  {
   "cell_type": "code",
   "execution_count": null,
   "id": "fbe0a013-c191-4e00-9f83-c97edf4e7acf",
   "metadata": {},
   "outputs": [],
   "source": [
    "df, list_s = ds.get_timestamps(ds.folders)"
   ]
  },
  {
   "cell_type": "code",
   "execution_count": null,
   "id": "059f9451-d0ec-49d1-9890-b4f04aa78428",
   "metadata": {},
   "outputs": [],
   "source": [
    "df"
   ]
  },
  {
   "cell_type": "code",
   "execution_count": null,
   "id": "d62259f0-4289-4198-af22-5fdbefcdf27b",
   "metadata": {},
   "outputs": [],
   "source": [
    "list_s"
   ]
  },
  {
   "cell_type": "code",
   "execution_count": null,
   "id": "cf9a90f4-5e32-4171-9934-4ae125ad34da",
   "metadata": {},
   "outputs": [],
   "source": [
    "df_new = ds.trim_on_timestamp(df, upper_threshold = '2016-01-01', lower_threshold = None)"
   ]
  },
  {
   "cell_type": "code",
   "execution_count": null,
   "id": "7398be45-3fb9-417d-bcc4-ebba665bbb32",
   "metadata": {},
   "outputs": [],
   "source": [
    "df_new"
   ]
  },
  {
   "cell_type": "code",
   "execution_count": null,
   "id": "ad222653-eb82-44f0-8493-855512224386",
   "metadata": {},
   "outputs": [],
   "source": [
    "ds.get_temporal_steps_count(ds.s2_path)"
   ]
  },
  {
   "cell_type": "code",
   "execution_count": null,
   "id": "ff2fe419-2dfe-444d-b544-de7026cd365b",
   "metadata": {},
   "outputs": [],
   "source": [
    "ps, md = ds.get_regular_dates()"
   ]
  },
  {
   "cell_type": "code",
   "execution_count": null,
   "id": "1c4fe818-449f-4a79-b70e-253818a1251b",
   "metadata": {},
   "outputs": [],
   "source": [
    "dicttest = ds.get_list_timeseries()"
   ]
  },
  {
   "cell_type": "code",
   "execution_count": null,
   "id": "7685fca3-082a-4d8e-9715-900197144d2b",
   "metadata": {
    "tags": []
   },
   "outputs": [],
   "source": [
    "dicttest['sub_timeseries'][0]"
   ]
  },
  {
   "cell_type": "code",
   "execution_count": null,
   "id": "8210472d-1b05-4657-ba91-c2479d4c8eae",
   "metadata": {},
   "outputs": [],
   "source": [
    "dicttest = ds.get_forecast_timeseries()\n",
    "dicttest['sub_forecast'][0]"
   ]
  },
  {
   "cell_type": "markdown",
   "id": "dc89637d-1de8-48d8-841f-7459865b2606",
   "metadata": {},
   "source": [
    "## Test for implementing getitem"
   ]
  },
  {
   "cell_type": "code",
   "execution_count": null,
   "id": "0f8e2e59-64e7-4a4f-8c45-3004b608ff34",
   "metadata": {},
   "outputs": [],
   "source": [
    "len(ds.dict_ts_missing_dates['sub_timeseries'])"
   ]
  },
  {
   "cell_type": "code",
   "execution_count": null,
   "id": "d1c13369-d3f5-412b-ac95-71db7f6bff34",
   "metadata": {},
   "outputs": [],
   "source": [
    "len(ds.all_loc_dates)"
   ]
  },
  {
   "cell_type": "code",
   "execution_count": null,
   "id": "74284422-dba1-4db7-8943-b950a2943571",
   "metadata": {},
   "outputs": [],
   "source": [
    "test_data, test_label = ds.__getitem__(2)"
   ]
  },
  {
   "cell_type": "code",
   "execution_count": null,
   "id": "453d5d27-739a-4ac6-b3ab-49deb5203b3c",
   "metadata": {},
   "outputs": [],
   "source": [
    "test_data.shape"
   ]
  },
  {
   "cell_type": "code",
   "execution_count": null,
   "id": "38135a08-41e8-492e-96b3-18f8360ee424",
   "metadata": {},
   "outputs": [],
   "source": [
    "test_label.shape"
   ]
  },
  {
   "cell_type": "code",
   "execution_count": null,
   "id": "82452c31-dd80-43dc-9e81-3d4bc23a5421",
   "metadata": {},
   "outputs": [],
   "source": [
    "test_data[9]"
   ]
  },
  {
   "cell_type": "code",
   "execution_count": null,
   "id": "6d96cbf1-fc1c-4458-be13-4e27d9f09998",
   "metadata": {},
   "outputs": [],
   "source": [
    "for timestamp in ds.dict_ts_missing_dates['sub_timeseries'][0]:\n",
    "    sen_era_folders = [folder for folder in folders_filtered if date in folder]\n",
    "    # open these folders and append all bands\n",
    "    static_folders = [folder for folder in folders_filtered if date in folder]"
   ]
  },
  {
   "cell_type": "code",
   "execution_count": null,
   "id": "68a19ccd-cade-4029-b7f8-7fad07019048",
   "metadata": {},
   "outputs": [],
   "source": [
    "for data_path_index, data_path in enumerate(ds.dataset_paths):\n",
    "    for file in os.listdir(data_path):\n",
    "        print(file)\n",
    "        # get single file...if the path is given\n",
    "        data_file = list(Path(file).glob(ds.list_of_all_geolocations[0] + '*.' + ds.data_file_extension))[0]\n"
   ]
  },
  {
   "cell_type": "code",
   "execution_count": null,
   "id": "edb91f06-e6f7-4967-8213-db6513089097",
   "metadata": {},
   "outputs": [],
   "source": [
    "list(Path(data_path).glob(ds.list_of_all_geolocations[0] + '*.' + ds.data_file_extension))"
   ]
  },
  {
   "cell_type": "code",
   "execution_count": null,
   "id": "97940413-90e1-4380-8387-061ca4d5709c",
   "metadata": {},
   "outputs": [],
   "source": [
    "folders_at_location = [folder for folder in os.listdir(ds.dataset_paths[0]) if ds.list_of_all_geolocations[0] in folder]"
   ]
  },
  {
   "cell_type": "code",
   "execution_count": null,
   "id": "9fbc4f77-2896-4a1d-be03-61de2cb23a9b",
   "metadata": {},
   "outputs": [],
   "source": [
    "folders_at_location"
   ]
  },
  {
   "cell_type": "code",
   "execution_count": null,
   "id": "3d18759e-e326-427c-b3b2-71e179d2d6bb",
   "metadata": {},
   "outputs": [],
   "source": [
    "folers_timeseries = [folder for folder in folders_at_location \n",
    "                    if any(timestamp in folder for timestamp in ds.dict_ts_missing_dates['sub_timeseries'][30])]"
   ]
  },
  {
   "cell_type": "code",
   "execution_count": null,
   "id": "517e3c54-c302-48a8-b04e-5ee886e3b744",
   "metadata": {},
   "outputs": [],
   "source": [
    "ds.dict_ts_missing_dates['sub_timeseries'][30]"
   ]
  },
  {
   "cell_type": "code",
   "execution_count": null,
   "id": "5fc84d45-af5b-4324-b39b-f57512db90be",
   "metadata": {},
   "outputs": [],
   "source": [
    "folers_timeseries"
   ]
  },
  {
   "cell_type": "code",
   "execution_count": null,
   "id": "7a195cc8-65da-4fd8-b00e-1d8db3643b0e",
   "metadata": {},
   "outputs": [],
   "source": [
    "for data_path_index, data_path in enumerate(ds.dataset_paths):\n",
    "    print(data_path)\n",
    "    break"
   ]
  },
  {
   "cell_type": "code",
   "execution_count": null,
   "id": "43bcc2c4-3656-4b56-b3cc-81babe10701a",
   "metadata": {},
   "outputs": [],
   "source": [
    "folder_paths = [data_path + folder for folder in folers_timeseries]"
   ]
  },
  {
   "cell_type": "code",
   "execution_count": null,
   "id": "8d1226bb-66c4-47df-ae38-894cc10bdef0",
   "metadata": {},
   "outputs": [],
   "source": [
    "folder_paths"
   ]
  },
  {
   "cell_type": "code",
   "execution_count": null,
   "id": "a808aa19-0cd8-4ed1-985f-a43aaf5805f2",
   "metadata": {},
   "outputs": [],
   "source": [
    "import os\n",
    "[os.path.join(path, name) for path, subdirs, files in os.walk(data_path) for name in files]# if name.endswith('tiff')]"
   ]
  },
  {
   "cell_type": "code",
   "execution_count": null,
   "id": "cf8dd111-ea8c-4dd6-8303-b2ab0eceb1dd",
   "metadata": {},
   "outputs": [],
   "source": [
    "[os.path.join(path, name) for path, subdirs, files in os.walk(folder_paths[0]) \n",
    "                                   for name in files if name.endswith('tiff')]"
   ]
  },
  {
   "cell_type": "code",
   "execution_count": null,
   "id": "0152bba9-d961-4230-8025-817cd8a8acc4",
   "metadata": {},
   "outputs": [],
   "source": []
  },
  {
   "cell_type": "markdown",
   "id": "1aa81ff6-e0e2-49b7-80f9-4d68a450d556",
   "metadata": {},
   "source": [
    "# Sampler"
   ]
  },
  {
   "cell_type": "code",
   "execution_count": null,
   "id": "bd258245-952e-426c-bc77-4323e0509de6",
   "metadata": {},
   "outputs": [],
   "source": [
    "from drought_impact_sampler import *"
   ]
  },
  {
   "cell_type": "code",
   "execution_count": null,
   "id": "7fa3e898-036d-464c-aa2f-dfcc326e421b",
   "metadata": {},
   "outputs": [],
   "source": [
    "test = BoundingBox(minx=1, maxx=2 , miny=3, maxy=4)"
   ]
  },
  {
   "cell_type": "code",
   "execution_count": null,
   "id": "6c542b36-deb8-4354-9cad-3ba971edccaf",
   "metadata": {},
   "outputs": [],
   "source": [
    "other = BoundingBox(minx=1.5, maxx=2.5 , miny=3.5, maxy=4.5)"
   ]
  },
  {
   "cell_type": "code",
   "execution_count": null,
   "id": "1a2b3a99-d3ce-46a3-b451-e6fcec999cd8",
   "metadata": {},
   "outputs": [],
   "source": [
    "orbbox = test.__or__(other)"
   ]
  },
  {
   "cell_type": "code",
   "execution_count": null,
   "id": "f0cc1d05-4ba8-4ac3-be36-dfbba7bfd876",
   "metadata": {},
   "outputs": [],
   "source": [
    "andbox = test.__and__(other)"
   ]
  },
  {
   "cell_type": "code",
   "execution_count": null,
   "id": "79168e88-7361-4883-820e-63a30cde47e3",
   "metadata": {},
   "outputs": [],
   "source": [
    "contains = test.__contains__(other)\n",
    "contains"
   ]
  },
  {
   "cell_type": "code",
   "execution_count": null,
   "id": "47c47fdf-9c02-4596-9c29-19f61886fc17",
   "metadata": {},
   "outputs": [],
   "source": [
    "other.area"
   ]
  },
  {
   "cell_type": "code",
   "execution_count": null,
   "id": "fe82a143-a02f-4efd-b2a0-fdcf5682c67d",
   "metadata": {},
   "outputs": [],
   "source": [
    "roi = [1,2,3,4]\n",
    "bbox = BoundingBox(*roi)"
   ]
  },
  {
   "cell_type": "code",
   "execution_count": null,
   "id": "eae46587-d2bd-411e-bc79-740b019ad64e",
   "metadata": {},
   "outputs": [],
   "source": [
    "bbox.minx"
   ]
  },
  {
   "cell_type": "code",
   "execution_count": null,
   "id": "c7448551-754c-40a5-94db-0399b9f65a9d",
   "metadata": {},
   "outputs": [],
   "source": [
    "test = [['5_6_7_8'] ,['1.5_4_2.5_4.5']] #"
   ]
  },
  {
   "cell_type": "code",
   "execution_count": null,
   "id": "d7b4f3e2-f3a7-42df-99b9-3e6c4b989d2e",
   "metadata": {},
   "outputs": [],
   "source": [
    "for region in test:\n",
    "    print(region[0])"
   ]
  },
  {
   "cell_type": "code",
   "execution_count": null,
   "id": "1e24249f-3f18-405b-99d8-6d181e47c63e",
   "metadata": {},
   "outputs": [],
   "source": [
    "bbox_roi = BoundingBox(*roi)\n",
    "\n",
    "# Atleast one of the geolocations intersects with the roi\n",
    "if not any(bbox_roi.intersects(BoundingBox(*[float(x) for x in region[0].split('_')])) for region in test):\n",
    "    raise ValueError(\n",
    "        \"ROI doesn't intersect with any data in the dataset\"\n",
    "    )"
   ]
  },
  {
   "cell_type": "code",
   "execution_count": null,
   "id": "3a03dd7d-e04c-4ac8-bc66-4355401d4983",
   "metadata": {},
   "outputs": [],
   "source": [
    "sampler = DroughtImpactSampler(ds, size=[1,1], length=5, replacement=False, mask_dir='downloads/forest_mask', mask_threshold=0.5)   #, roi=[46,47,7,7.5])"
   ]
  },
  {
   "cell_type": "code",
   "execution_count": null,
   "id": "9185d420-108a-458c-92d6-bac0096a0463",
   "metadata": {},
   "outputs": [],
   "source": [
    "sampler.__iter__()"
   ]
  },
  {
   "cell_type": "code",
   "execution_count": null,
   "id": "983b2b36-65ba-49c7-9795-3c0fa428794e",
   "metadata": {},
   "outputs": [],
   "source": [
    "sample_list = list(sampler.__iter__())"
   ]
  },
  {
   "cell_type": "code",
   "execution_count": null,
   "id": "0d25ce85-8011-4ae6-bf12-ec27926195fc",
   "metadata": {},
   "outputs": [],
   "source": [
    "sample_list"
   ]
  },
  {
   "cell_type": "code",
   "execution_count": null,
   "id": "1e5dc489-ad33-426f-b9d3-1f1ead68b800",
   "metadata": {},
   "outputs": [],
   "source": [
    "sampler.dataset.all_loc_dates[0]"
   ]
  },
  {
   "cell_type": "code",
   "execution_count": null,
   "id": "51b2712e-b61d-4d6b-b837-8cd2701c46a3",
   "metadata": {},
   "outputs": [],
   "source": [
    "print(sample_list[0][1].minx)\n",
    "print(sample_list[0][1].miny)\n",
    "print(sample_list[0][1].maxx)\n",
    "print(sample_list[0][1].maxy)"
   ]
  },
  {
   "cell_type": "code",
   "execution_count": null,
   "id": "3fc7eadc-c365-42a0-9807-d944a59975d8",
   "metadata": {},
   "outputs": [],
   "source": [
    "print(sample_list[1][1].minx)\n",
    "print(sample_list[1][1].miny)\n",
    "print(sample_list[1][1].maxx)\n",
    "print(sample_list[1][1].maxy)"
   ]
  },
  {
   "cell_type": "code",
   "execution_count": null,
   "id": "24aa2e59-d289-4048-8e5a-75762316b7bb",
   "metadata": {},
   "outputs": [],
   "source": [
    "print(sample_list[29][1].minx)\n",
    "print(sample_list[29][1].miny)\n",
    "print(sample_list[29][1].maxx)\n",
    "print(sample_list[29][1].maxy)"
   ]
  },
  {
   "cell_type": "markdown",
   "id": "0d3932e2-2861-4d7f-b0ac-91cf102d7376",
   "metadata": {},
   "source": [
    "### Adding mask to sampler \n"
   ]
  },
  {
   "cell_type": "code",
   "execution_count": null,
   "id": "2d0ddeff-31db-420f-8909-d40804bd539e",
   "metadata": {},
   "outputs": [],
   "source": [
    "# Window read mask with bbox from samler\n",
    "MASKPATH = list(glob.glob('downloads/forest_mask/*' + sampler.dataset.data_file_extension))[0] #list(glob.glob(self.mask + + f'/**{coords}/*' + self.dataset.data_file_extension))[0]\n",
    "print(MASKPATH)\n",
    "with rs.open(TESTPATH) as src:\n",
    "    #print([list(src.bounds)[0], list(src.bounds)[2], list(src.bounds)[1], list(src.bounds)[3]])\n",
    "    # windowed reading\n",
    "    mask_box = src.read(1, window=from_bounds(sample_list[0][1].minx, sample_list[0][1].miny, sample_list[0][1].maxx, sample_list[0][1].maxy, src.transform))  #left, bottom, right, top\n",
    "    # Compare ratio forest:total and check with threshold\n",
    "    ratio_forest = mask_box.sum()/len(mask_box.flatten())"
   ]
  },
  {
   "cell_type": "code",
   "execution_count": null,
   "id": "ed1e4795-6817-4a1a-8ea1-1022420c8b38",
   "metadata": {},
   "outputs": [],
   "source": [
    "mask_box"
   ]
  },
  {
   "cell_type": "code",
   "execution_count": null,
   "id": "00fb370f-ad47-43cf-9245-189e8d1e43b8",
   "metadata": {},
   "outputs": [],
   "source": [
    "list(glob.glob('downloads/forest_mask/*' + sampler.dataset.data_file_extension))"
   ]
  },
  {
   "cell_type": "markdown",
   "id": "47176d8b-7fbb-420b-a697-7ddd7f377984",
   "metadata": {},
   "source": [
    "# Data reading (in data loader)\n",
    "Data receives the index and the bbox, apply windowed reading as below"
   ]
  },
  {
   "cell_type": "code",
   "execution_count": null,
   "id": "bd3ac200-b28b-4836-ae36-e5ebe854053f",
   "metadata": {},
   "outputs": [],
   "source": [
    "# windowed raster reading for yielded coordinates by sampler\n",
    "\n",
    "loc = sampler.dataset.all_loc_dates[0][0]\n",
    "\n",
    "from rasterio.windows import from_bounds\n",
    "TESTPATH = 'downloads/SENTINEL 2/2015-08-09T00:00:00Z_46.907_7.137_47.407_7.637/High res  imagery (ESA Sentinel 2)-Band 2 (blue)[B02]-08_09_2015T00_00_00.tiff'\n",
    "with rs.open(TESTPATH) as src:\n",
    "    rst_full = src.read(1)\n",
    "    rst = src.read(1, window=from_bounds(sample_list[0][1].minx, sample_list[0][1].miny, sample_list[0][1].maxx, sample_list[0][1].maxy, src.transform))  #left, bottom, right, top\n",
    "        \n",
    "print(rst_full.shape)\n",
    "print(rst.shape)# should be same as input to sampler class"
   ]
  },
  {
   "cell_type": "code",
   "execution_count": null,
   "id": "1aaf91dd-cfc6-4331-9a86-0f0877f0b034",
   "metadata": {},
   "outputs": [],
   "source": [
    "windowt=from_bounds(7.2, 47.2, 7.6, 47.5,src.transform)\n",
    "windowt"
   ]
  },
  {
   "cell_type": "code",
   "execution_count": null,
   "id": "4eec9a00-4e65-447c-840a-b15ca9e4c9ec",
   "metadata": {},
   "outputs": [],
   "source": [
    "with rs.open(TESTPATH) as src:\n",
    "    rst = src.read(1, window=windowt)\n",
    "rst.shape"
   ]
  },
  {
   "cell_type": "code",
   "execution_count": null,
   "id": "d6c65362-7b8e-49f5-9a63-af512a376924",
   "metadata": {},
   "outputs": [],
   "source": [
    "src.bounds"
   ]
  },
  {
   "cell_type": "markdown",
   "id": "999455c6-889b-43c0-b523-b40bfc253515",
   "metadata": {},
   "source": [
    "# Data Loader"
   ]
  },
  {
   "cell_type": "code",
   "execution_count": null,
   "id": "1d8a56cb-ccb3-4f9e-9e20-a7a1a77b4355",
   "metadata": {},
   "outputs": [],
   "source": [
    "from torch.utils.data import DataLoader"
   ]
  },
  {
   "cell_type": "code",
   "execution_count": null,
   "id": "612c3ce2-aa1a-4dad-9ba5-561d1b1b1763",
   "metadata": {},
   "outputs": [],
   "source": [
    "def collate_batch(batch):\n",
    "    # get info from sampler\n",
    "    # load batch data\n",
    "    # window read the data --> mght not be possible since we already work with tensors. See if better to work with np indexing or window reading\n",
    "    \n",
    "    return batch"
   ]
  },
  {
   "cell_type": "code",
   "execution_count": null,
   "id": "1c43cca8-cfb9-4b28-83f8-49f46b29baea",
   "metadata": {},
   "outputs": [],
   "source": [
    "DL = DataLoader(ds, sampler=sampler, batch_size=1) #, collate_fn=collate_batch)\n",
    "test = list(DL.__iter__())"
   ]
  },
  {
   "cell_type": "code",
   "execution_count": null,
   "id": "47c8ec39-c01f-4364-bc7e-018f0d77cb91",
   "metadata": {},
   "outputs": [],
   "source": [
    "len(test) # 5 samples"
   ]
  },
  {
   "cell_type": "code",
   "execution_count": null,
   "id": "22f357a6-6489-41b8-afba-76bc04917e56",
   "metadata": {},
   "outputs": [],
   "source": [
    "len(test[0]) # each sample contains data and label in a timseries"
   ]
  },
  {
   "cell_type": "code",
   "execution_count": null,
   "id": "40865428-1bff-47e0-a3a6-e3288ea8091c",
   "metadata": {},
   "outputs": [],
   "source": [
    "test[0][0].shape"
   ]
  },
  {
   "cell_type": "code",
   "execution_count": null,
   "id": "d76759aa-d6be-4c25-817c-c125f4de69c9",
   "metadata": {},
   "outputs": [],
   "source": [
    "test[0][1].shape"
   ]
  },
  {
   "cell_type": "code",
   "execution_count": null,
   "id": "4c572430-be72-4e05-926c-3e4bfcc3a804",
   "metadata": {},
   "outputs": [],
   "source": [
    "coords = ds.list_of_all_geolocations\n",
    "focus = [[46.630, 6.379, 47.700, 6.507]]"
   ]
  },
  {
   "cell_type": "code",
   "execution_count": null,
   "id": "fbc8a11f-604b-47db-b538-15b98dbaf671",
   "metadata": {},
   "outputs": [],
   "source": [
    "for region in focus:\n",
    "    miny = float(region[0]) #min lat\n",
    "    minx = float(region[1]) #min lon\n",
    "    maxy = float(region[2]) #max lat\n",
    "    maxx = float(region[3]) #max lon\n",
    "    region_bbox = BoundingBox(minx, maxx, miny, maxy)\n",
    "    \n",
    "    for data in coords:\n",
    "        data_bbox = BoundingBox(*[float(data.split('_')[1]), float(data.split('_')[3]), float(data.split('_')[0]), float(data.split('_')[2])])\n",
    "        print(data_bbox)\n",
    "        if not any(region_bbox.intersects(BoundingBox(*[float(data.split('_')[1]), float(data.split('_')[3]), float(data.split('_')[0]), float(data.split('_')[2])]))):\n",
    "            # if an intersect, remove that geoloc\n",
    "            self.list_of_all_geolocations.remove(data)"
   ]
  },
  {
   "cell_type": "code",
   "execution_count": null,
   "id": "7ddcfbea-e981-4e96-a61b-afe76cd60760",
   "metadata": {},
   "outputs": [],
   "source": [
    "for data in coords:\n",
    "    data_bbox = BoundingBox(*[float(data.split('_')[1]), float(data.split('_')[3]), float(data.split('_')[0]), float(data.split('_')[2])])\n",
    "    if not any(data_bbox.intersects(BoundingBox(*[float(region[1]), float(region[3]), float(region[0]), float(region[2])])) for region in focus):\n",
    "        coords.remove(data)"
   ]
  },
  {
   "cell_type": "code",
   "execution_count": null,
   "id": "d19f4846-3e85-4483-952b-350829169f30",
   "metadata": {},
   "outputs": [],
   "source": [
    "coords"
   ]
  },
  {
   "cell_type": "code",
   "execution_count": null,
   "id": "7b33ce67-9962-4e75-ac13-6802ceb42022",
   "metadata": {},
   "outputs": [],
   "source": [
    "for region in focus:\n",
    "    miny = float(region.split('_')[0]) #min lat\n",
    "    minx = float(coords.split('_')[1]) #min lon\n",
    "    maxy = float(coords.split('_')[2]) #max lat\n",
    "    maxx = float(region.split('_')[3]) #max lon\n",
    "    region_bbox = BoundingBox(minx, maxx, miny, maxy)\n",
    "    # Check if data intersects with at least one region\n",
    "    if not any(region.intersects(BoundingBox(*[float(data.split('_')[1]), float(data.split('_')[3]), float(data.split('_')[0]), data(region.split('_')[2])])) \n",
    "           for data in coords):\n",
    "        # if no intersect, remove geoloc\n",
    "        coords.remove(data)"
   ]
  },
  {
   "cell_type": "code",
   "execution_count": null,
   "id": "4a2a8f86-ebc7-4658-a935-6d71f40d8da1",
   "metadata": {},
   "outputs": [],
   "source": []
  },
  {
   "cell_type": "markdown",
   "id": "9ac49617-39f5-4277-9d12-4b656a88d49e",
   "metadata": {},
   "source": [
    "# Checkng downloads"
   ]
  },
  {
   "cell_type": "code",
   "execution_count": null,
   "id": "b7cb8152-f76b-4346-b2f0-4f71f03af3fb",
   "metadata": {},
   "outputs": [],
   "source": [
    "import os"
   ]
  },
  {
   "cell_type": "code",
   "execution_count": null,
   "id": "4bc169b0-1455-40f0-9a95-cbe50f169a35",
   "metadata": {},
   "outputs": [],
   "source": [
    "# count number of folders per region\n",
    "PATH = 'downloads/ERA5/'"
   ]
  },
  {
   "cell_type": "code",
   "execution_count": null,
   "id": "f39ea99e-dcd9-41b3-8a47-a16579994c48",
   "metadata": {},
   "outputs": [],
   "source": [
    "folders = [folder for folder in os.listdir(PATH)] "
   ]
  },
  {
   "cell_type": "code",
   "execution_count": null,
   "id": "fb2fe975-20a8-4e1a-a2e3-9341ebd6108d",
   "metadata": {},
   "outputs": [],
   "source": [
    "jura = [x for x in folders if '46.907_7.137_47.407_7.637' in x] \n",
    "schaff = [x for x in folders if '47.586_8.397_47.807_8.756' in x] \n",
    "vaud = [x for x in folders if '46.630_6.379_47.700_6.507' in x] \n",
    "vals = [x for x in folders if '46.000_7.02_46.372_7.435' in x] "
   ]
  },
  {
   "cell_type": "code",
   "execution_count": null,
   "id": "c12ae6e8-dc3d-4775-9c8f-64f19c49e9d2",
   "metadata": {},
   "outputs": [],
   "source": [
    "len(jura)"
   ]
  },
  {
   "cell_type": "code",
   "execution_count": null,
   "id": "422ba9d8-4ab8-449e-b7f7-6f5566d0f5d2",
   "metadata": {},
   "outputs": [],
   "source": [
    "len(schaff)"
   ]
  },
  {
   "cell_type": "code",
   "execution_count": null,
   "id": "ddd17a25-80b3-4ed1-bbac-2df6272364fb",
   "metadata": {},
   "outputs": [],
   "source": [
    "len(vaud)"
   ]
  },
  {
   "cell_type": "code",
   "execution_count": null,
   "id": "fe3e01a1-c8f1-492e-8ff3-cc39862df600",
   "metadata": {},
   "outputs": [],
   "source": [
    "len(vals)"
   ]
  },
  {
   "cell_type": "code",
   "execution_count": null,
   "id": "7d13b345-c6e9-4830-9d00-12b93ed4d611",
   "metadata": {},
   "outputs": [],
   "source": [
    "vals.sort()\n",
    "vals"
   ]
  },
  {
   "cell_type": "code",
   "execution_count": null,
   "id": "8d41079b-9194-43d4-8cd9-4673e89af5d8",
   "metadata": {},
   "outputs": [],
   "source": [
    "vaud.sort()\n",
    "vaud"
   ]
  },
  {
   "cell_type": "markdown",
   "id": "a895d8a6-3c84-49b1-91e1-5b2957e24b5a",
   "metadata": {},
   "source": [
    "# Aggregate multiple dates"
   ]
  },
  {
   "cell_type": "code",
   "execution_count": null,
   "id": "63a153f0-5840-4158-90e7-cf719c82333a",
   "metadata": {},
   "outputs": [],
   "source": [
    "from datetime import datetime, timedelta\n",
    "\n",
    "def agg_dates(self, timestamp, data_file, agg_funct, folder_list, bbox,):\n",
    "    \"\"\"\n",
    "    :param data_file: str\n",
    "    :param timestamp: str\n",
    "    :param delta: int\n",
    "    :param agg_funct: str get from dict\n",
    "    :param folder_list: list of folders to work no\n",
    "    \"\"\"\n",
    "    # Get all necessary dates\n",
    "    timestamp = datetime.strptime(timestamp, \"%Y-%m-%d\")\n",
    "    if timestamp>datetime.strptime('2017-06-29', \"%Y-%m-%d\"):\n",
    "        start_date = timestamp-timedelta(days=self.delta-1)\n",
    "        times_to_agg = [datetime.strftime(t, \"%Y-%m-%d\") for t in pd.date_range(start=start_date, end=timestamp, freq='D')]\n",
    "    # Get folders in dates\n",
    "    folders = [folder for folder in folder_list if any(timestamp in t for t in times_to_agg)]\n",
    "    # Get file/band\n",
    "    band = data_file # split to keep what is in []\n",
    "    band_list = [] # same band at different times, that needs to be aggregated\n",
    "    for folder in folders:\n",
    "        band_list += [f for os.listdir(folder) if band in f]\n",
    "    # Open files and aggregate according to agg funct\n",
    "    all_arrays = []\n",
    "    for file in band_list:\n",
    "        with rs.open(file) as dataset:\n",
    "            image = dataset.read(1, window=from_bounds(bbox.minx, bbox.miny, bbox.maxx, bbox.maxy, dataset.transform))\n",
    "\n",
    "        # Handle NaNs in image\n",
    "        if np.isnan(image).any():\n",
    "            image = self.handle_nan_in_image(image, self.nan_handling)\n",
    "    \n",
    "        # Append array \n",
    "        all_arrays.append(image)\n",
    "        \n",
    "    # Aggregate\n",
    "    image = self.aggregate_band(all_arrays, agg_funct)\n",
    "    \n",
    "    return image\n"
   ]
  },
  {
   "cell_type": "code",
   "execution_count": null,
   "id": "2966bfbf-5d91-4420-8763-d14d7665140b",
   "metadata": {},
   "outputs": [],
   "source": [
    "times_to_agg = agg_dates(timestamp='2017-11-30', delta=10)\n",
    "times_to_agg"
   ]
  },
  {
   "cell_type": "code",
   "execution_count": null,
   "id": "3da5c74b-f02b-44f0-aa6d-3a7b28f8aaeb",
   "metadata": {},
   "outputs": [],
   "source": [
    "sen_folders = [folder for folder in s2_filtered if any(timestamp in t for t in times_to_agg)]"
   ]
  },
  {
   "cell_type": "code",
   "execution_count": 3,
   "id": "06dafe94-1898-48d6-9c33-2d688a43eb9b",
   "metadata": {},
   "outputs": [],
   "source": [
    "import numpy as np\n",
    "arrays = [np.random.random((4,2)) for _ in range(3)]\n",
    "#np.mean(arrays, axis=0)"
   ]
  },
  {
   "cell_type": "code",
   "execution_count": 9,
   "id": "571c44be-89dd-49e8-9545-dcff233dc5a3",
   "metadata": {},
   "outputs": [
    {
     "data": {
      "text/plain": [
       "array([[0.73942106, 0.77657925],\n",
       "       [0.63305655, 0.90433476],\n",
       "       [0.87261727, 0.80912697],\n",
       "       [0.70461436, 0.31286112]])"
      ]
     },
     "execution_count": 9,
     "metadata": {},
     "output_type": "execute_result"
    }
   ],
   "source": [
    "np.max(arrays, axis=0)"
   ]
  },
  {
   "cell_type": "code",
   "execution_count": 10,
   "id": "9b9e6264-02a8-474b-8b5d-ad05b25b7c6f",
   "metadata": {},
   "outputs": [
    {
     "data": {
      "text/plain": [
       "[array([[0.24997916, 0.17759381],\n",
       "        [0.63305655, 0.89598782],\n",
       "        [0.25136159, 0.80912697],\n",
       "        [0.66634743, 0.31286112]]),\n",
       " array([[0.72833137, 0.23770496],\n",
       "        [0.15360853, 0.52602408],\n",
       "        [0.87261727, 0.21536273],\n",
       "        [0.58657733, 0.06255417]]),\n",
       " array([[0.73942106, 0.77657925],\n",
       "        [0.07510546, 0.90433476],\n",
       "        [0.17152558, 0.21218757],\n",
       "        [0.70461436, 0.12187009]])]"
      ]
     },
     "execution_count": 10,
     "metadata": {},
     "output_type": "execute_result"
    }
   ],
   "source": [
    "arrays"
   ]
  },
  {
   "cell_type": "code",
   "execution_count": 11,
   "id": "5ccfbe9f-7193-41b7-8658-51e462b609fb",
   "metadata": {},
   "outputs": [
    {
     "data": {
      "text/plain": [
       "ModeResult(mode=array([[[0.24997916, 0.17759381],\n",
       "        [0.07510546, 0.52602408],\n",
       "        [0.17152558, 0.21218757],\n",
       "        [0.58657733, 0.06255417]]]), count=array([[[1, 1],\n",
       "        [1, 1],\n",
       "        [1, 1],\n",
       "        [1, 1]]]))"
      ]
     },
     "execution_count": 11,
     "metadata": {},
     "output_type": "execute_result"
    }
   ],
   "source": [
    "from scipy import stats\n",
    "stats.mode(arrays)"
   ]
  },
  {
   "cell_type": "code",
   "execution_count": 3,
   "id": "a256883f-7d30-4b2b-a9a6-495e47c3b1d4",
   "metadata": {},
   "outputs": [],
   "source": [
    "import re\n",
    "test_str =' [NDVI]high res.tiff'\n",
    "band = 'NDVI'\n",
    "#res = re.findall(r'\\[.*?]', test_str)\n",
    "res = re.search(r'\\['+band+']', test_str)"
   ]
  },
  {
   "cell_type": "code",
   "execution_count": 7,
   "id": "fc25ae87-9bc9-4c4b-bfb2-4baaf769c964",
   "metadata": {},
   "outputs": [
    {
     "data": {
      "text/plain": [
       "'[NDVI]'"
      ]
     },
     "execution_count": 7,
     "metadata": {},
     "output_type": "execute_result"
    }
   ],
   "source": [
    "res.group(0)"
   ]
  },
  {
   "cell_type": "code",
   "execution_count": null,
   "id": "ba5d0d67-bc08-4882-8042-c613adf6197b",
   "metadata": {},
   "outputs": [],
   "source": []
  }
 ],
 "metadata": {
  "kernelspec": {
   "display_name": "drought",
   "language": "python",
   "name": "drought"
  },
  "language_info": {
   "codemirror_mode": {
    "name": "ipython",
    "version": 3
   },
   "file_extension": ".py",
   "mimetype": "text/x-python",
   "name": "python",
   "nbconvert_exporter": "python",
   "pygments_lexer": "ipython3",
   "version": "3.8.13"
  }
 },
 "nbformat": 4,
 "nbformat_minor": 5
}
