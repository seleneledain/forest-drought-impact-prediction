{
 "cells": [
  {
   "cell_type": "code",
   "execution_count": 2,
   "id": "5adbe697",
   "metadata": {},
   "outputs": [],
   "source": [
    "import os\n",
    "import tempfile\n",
    "#import torch\n",
    "#from torch.utils.data import DataLoader\n",
    "import matplotlib.pyplot as plt\n",
    "#from torchgeo.datasets import RasterDataset, stack_samples, unbind_samples\n",
    "#from torchgeo.datasets.utils import download_url\n",
    "#from torchgeo.samplers import RandomGeoSampler, GridGeoSampler\n",
    "import rasterio\n",
    "import re\n",
    "import shutil"
   ]
  },
  {
   "cell_type": "markdown",
   "id": "e8f91802-c57e-4453-9ef5-4ef81a2e201b",
   "metadata": {},
   "source": [
    "# Data cleaning"
   ]
  },
  {
   "cell_type": "markdown",
   "id": "342070c0-7304-4d8b-8431-d0ab14ef2b4b",
   "metadata": {},
   "source": [
    "## Folder cleaning\n",
    "- Some folders were created but just contain previous dates. Does this for 2015-mid 2017 for Sentinel 2\n",
    "- Some folders could be incomplete\n",
    "- Some files are not needed\n",
    "    - `ARVI`\n",
    "    - `SAVI`\n",
    "    - `stderr.log`\n",
    "    - `stdout.log`\n",
    "    - `output.info`\n",
    "    - `policy`\n",
    "    - `data_acknowledgement`"
   ]
  },
  {
   "cell_type": "markdown",
   "id": "4a0327b6-cd95-43a2-8916-5253b5dd5814",
   "metadata": {},
   "source": [
    "#### Delete unnecessary files\n",
    "Uncomment line to actually delete files"
   ]
  },
  {
   "cell_type": "code",
   "execution_count": 4,
   "id": "5d2e0298-cb02-4f41-a956-fcf6be9595ef",
   "metadata": {
    "tags": []
   },
   "outputs": [],
   "source": [
    "data_path = 'downloads/SENTINEL 2/'\n",
    "to_del = ['ARVI', 'SAVI', 'stderr', 'stdout', 'policy', 'output', 'data_acknowledgement']\n",
    "for folder in os.listdir(data_path):\n",
    "    for file in os.listdir(data_path+folder):\n",
    "        if any(substring in file for substring in to_del):\n",
    "            os.remove(data_path + folder + '/' +   file)\n",
    "           #print(data_path + folder + '/' + file)"
   ]
  },
  {
   "cell_type": "markdown",
   "id": "bd1992c5-735d-4bf1-ae00-51b10125082b",
   "metadata": {},
   "source": [
    "#### Folders with wrong dates"
   ]
  },
  {
   "cell_type": "code",
   "execution_count": 7,
   "id": "85bd9597-7ea5-491f-9c38-4d1a706bc081",
   "metadata": {
    "tags": []
   },
   "outputs": [],
   "source": [
    "# See which folders have different folder and file dates\n",
    "\n",
    "data_path = 'downloads/SENTINEL 2/'\n",
    "for folder in os.listdir(data_path):\n",
    "    folder_date = folder.split('T')[0]\n",
    "    for file in os.listdir(data_path+folder):\n",
    "        if file.startswith('High'):\n",
    "            date_match = re.search('\\d{2}_\\d{2}_\\d{4}', file).group()\n",
    "            file_date = date_match[-4:] + '-' + date_match[-10:-8] + '-' +  date_match[-7:-5]\n",
    "            break\n",
    "    if folder_date != file_date:\n",
    "        print('No match!\\nFolder date:', folder_date, '\\nFile date:', file_date)"
   ]
  },
  {
   "cell_type": "code",
   "execution_count": 6,
   "id": "fc7eee09-f398-4225-a0de-29e0863269f6",
   "metadata": {},
   "outputs": [],
   "source": [
    "# Remove which folders have different folder and file dates\n",
    "\n",
    "data_path = 'downloads/SENTINEL 2/'\n",
    "for folder in os.listdir(data_path):\n",
    "    folder_date = folder.split('T')[0]\n",
    "    for file in os.listdir(data_path+folder):\n",
    "        if file.startswith('High'):\n",
    "            date_match = re.search('\\d{2}_\\d{2}_\\d{4}', file).group()\n",
    "            file_date = date_match[-4:] + '-' + date_match[-10:-8] + '-' +  date_match[-7:-5]\n",
    "            break\n",
    "    if folder_date != file_date:\n",
    "        shutil.rmtree(data_path+folder)"
   ]
  },
  {
   "cell_type": "markdown",
   "id": "d0481b6e-14ac-4700-b21e-f3641907546c",
   "metadata": {},
   "source": [
    "#### Incomplete folders: careful! Could be Cloud Probability "
   ]
  },
  {
   "cell_type": "code",
   "execution_count": 8,
   "id": "12d0f9a7-a5d1-4128-b88c-6b79ec5dfc83",
   "metadata": {},
   "outputs": [
    {
     "name": "stdout",
     "output_type": "stream",
     "text": [
      "2020-06-30T00:00:00Z_46.907_7.137_47.407_7.637\n",
      "2020-07-11T00:00:00Z_46.907_7.137_47.407_7.637\n",
      "2020-05-11T00:00:00Z_46.907_7.137_47.407_7.637\n",
      "2020-03-07T00:00:00Z_46.907_7.137_47.407_7.637\n",
      "2020-11-02T00:00:00Z_46.907_7.137_47.407_7.637\n",
      "2020-09-23T00:00:00Z_46.907_7.137_47.407_7.637\n",
      "2020-11-17T00:00:00Z_46.907_7.137_47.407_7.637\n",
      "2020-11-08T00:00:00Z_46.907_7.137_47.407_7.637\n",
      "2020-03-23T00:00:00Z_46.907_7.137_47.407_7.637\n",
      "2020-07-20T00:00:00Z_46.907_7.137_47.407_7.637\n",
      "2020-11-22T00:00:00Z_46.907_7.137_47.407_7.637\n",
      "2020-05-27T00:00:00Z_46.907_7.137_47.407_7.637\n",
      "2020-03-03T00:00:00Z_46.907_7.137_47.407_7.637\n",
      "2020-09-03T00:00:00Z_46.907_7.137_47.407_7.637\n",
      "2020-08-25T00:00:00Z_46.907_7.137_47.407_7.637\n",
      "2021-11-23T00:00:00Z_46.907_7.137_47.407_7.637\n",
      "2020-03-22T00:00:00Z_46.907_7.137_47.407_7.637\n",
      "2020-09-28T00:00:00Z_46.907_7.137_47.407_7.637\n",
      "2020-05-07T00:00:00Z_46.907_7.137_47.407_7.637\n",
      "2019-09-15T00:00:00Z_46.907_7.137_47.407_7.637\n",
      "2020-05-17T00:00:00Z_46.907_7.137_47.407_7.637\n",
      "2020-04-26T00:00:00Z_46.907_7.137_47.407_7.637\n",
      "2020-09-19T00:00:00Z_46.907_7.137_47.407_7.637\n",
      "2020-04-01T00:00:00Z_46.907_7.137_47.407_7.637\n",
      "2020-11-12T00:00:00Z_46.907_7.137_47.407_7.637\n",
      "2020-04-22T00:00:00Z_46.907_7.137_47.407_7.637\n",
      "2020-08-05T00:00:00Z_46.907_7.137_47.407_7.637\n",
      "2020-03-18T00:00:00Z_46.907_7.137_47.407_7.637\n",
      "2020-10-18T00:00:00Z_46.907_7.137_47.407_7.637\n",
      "2020-10-19T00:00:00Z_46.907_7.137_47.407_7.637\n",
      "2020-08-29T00:00:00Z_46.907_7.137_47.407_7.637\n",
      "2020-07-25T00:00:00Z_46.907_7.137_47.407_7.637\n",
      "2020-10-23T00:00:00Z_46.907_7.137_47.407_7.637\n",
      "2020-05-06T00:00:00Z_46.907_7.137_47.407_7.637\n",
      "2021-12-08T00:00:00Z_46.907_7.137_47.407_7.637\n",
      "2020-09-13T00:00:00Z_46.907_7.137_47.407_7.637\n",
      "2020-06-01T00:00:00Z_46.907_7.137_47.407_7.637\n",
      "2020-10-28T00:00:00Z_46.907_7.137_47.407_7.637\n",
      "2020-09-14T00:00:00Z_46.907_7.137_47.407_7.637\n",
      "2020-05-21T00:00:00Z_46.907_7.137_47.407_7.637\n",
      "2020-07-26T00:00:00Z_46.907_7.137_47.407_7.637\n",
      "2020-04-11T00:00:00Z_46.907_7.137_47.407_7.637\n",
      "2020-07-10T00:00:00Z_46.907_7.137_47.407_7.637\n",
      "2020-07-21T00:00:00Z_46.907_7.137_47.407_7.637\n",
      "2020-10-14T00:00:00Z_46.907_7.137_47.407_7.637\n",
      "2020-03-08T00:00:00Z_46.907_7.137_47.407_7.637\n",
      "2020-08-10T00:00:00Z_46.907_7.137_47.407_7.637\n",
      "2020-04-17T00:00:00Z_46.907_7.137_47.407_7.637\n",
      "2020-10-13T00:00:00Z_46.907_7.137_47.407_7.637\n",
      "2020-03-27T00:00:00Z_46.907_7.137_47.407_7.637\n",
      "2020-06-06T00:00:00Z_46.907_7.137_47.407_7.637\n",
      "2020-06-20T00:00:00Z_46.907_7.137_47.407_7.637\n",
      "2020-10-04T00:00:00Z_46.907_7.137_47.407_7.637\n",
      "2020-07-15T00:00:00Z_46.907_7.137_47.407_7.637\n",
      "2020-04-21T00:00:00Z_46.907_7.137_47.407_7.637\n",
      "2020-08-19T00:00:00Z_46.907_7.137_47.407_7.637\n",
      "2020-08-14T00:00:00Z_46.907_7.137_47.407_7.637\n",
      "2020-09-24T00:00:00Z_46.907_7.137_47.407_7.637\n",
      "2020-05-16T00:00:00Z_46.907_7.137_47.407_7.637\n",
      "2020-06-21T00:00:00Z_46.907_7.137_47.407_7.637\n",
      "2020-04-16T00:00:00Z_46.907_7.137_47.407_7.637\n",
      "2020-11-13T00:00:00Z_46.907_7.137_47.407_7.637\n",
      "2020-04-12T00:00:00Z_46.907_7.137_47.407_7.637\n",
      "2020-12-02T00:00:00Z_46.907_7.137_47.407_7.637\n",
      "2020-03-02T00:00:00Z_46.907_7.137_47.407_7.637\n",
      "2020-03-17T00:00:00Z_46.907_7.137_47.407_7.637\n",
      "2020-07-06T00:00:00Z_46.907_7.137_47.407_7.637\n",
      "2020-11-07T00:00:00Z_46.907_7.137_47.407_7.637\n",
      "2020-05-26T00:00:00Z_46.907_7.137_47.407_7.637\n",
      "2020-08-09T00:00:00Z_46.907_7.137_47.407_7.637\n",
      "2020-07-01T00:00:00Z_46.907_7.137_47.407_7.637\n",
      "2020-03-28T00:00:00Z_46.907_7.137_47.407_7.637\n",
      "2020-06-16T00:00:00Z_46.907_7.137_47.407_7.637\n",
      "2020-04-07T00:00:00Z_46.907_7.137_47.407_7.637\n",
      "2021-02-01T00:00:00Z_46.907_7.137_47.407_7.637\n",
      "2020-09-29T00:00:00Z_46.907_7.137_47.407_7.637\n",
      "2020-08-04T00:00:00Z_46.907_7.137_47.407_7.637\n",
      "2020-10-24T00:00:00Z_46.907_7.137_47.407_7.637\n",
      "2020-08-20T00:00:00Z_46.907_7.137_47.407_7.637\n",
      "2020-04-27T00:00:00Z_46.907_7.137_47.407_7.637\n",
      "2020-08-24T00:00:00Z_46.907_7.137_47.407_7.637\n",
      "2020-05-22T00:00:00Z_46.907_7.137_47.407_7.637\n",
      "2020-11-27T00:00:00Z_46.907_7.137_47.407_7.637\n",
      "2020-04-02T00:00:00Z_46.907_7.137_47.407_7.637\n",
      "2020-03-12T00:00:00Z_46.907_7.137_47.407_7.637\n",
      "2020-05-02T00:00:00Z_46.907_7.137_47.407_7.637\n",
      "2020-09-08T00:00:00Z_46.907_7.137_47.407_7.637\n",
      "2020-06-10T00:00:00Z_46.907_7.137_47.407_7.637\n",
      "2020-08-15T00:00:00Z_46.907_7.137_47.407_7.637\n",
      "2020-06-15T00:00:00Z_46.907_7.137_47.407_7.637\n",
      "2020-09-04T00:00:00Z_46.907_7.137_47.407_7.637\n",
      "2020-09-18T00:00:00Z_46.907_7.137_47.407_7.637\n",
      "2020-05-12T00:00:00Z_46.907_7.137_47.407_7.637\n",
      "2020-06-25T00:00:00Z_46.907_7.137_47.407_7.637\n",
      "2020-07-30T00:00:00Z_46.907_7.137_47.407_7.637\n",
      "2020-03-13T00:00:00Z_46.907_7.137_47.407_7.637\n",
      "2020-12-03T00:00:00Z_46.907_7.137_47.407_7.637\n",
      "2020-10-09T00:00:00Z_46.907_7.137_47.407_7.637\n",
      "2020-11-23T00:00:00Z_46.907_7.137_47.407_7.637\n",
      "2020-11-03T00:00:00Z_46.907_7.137_47.407_7.637\n",
      "2020-04-06T00:00:00Z_46.907_7.137_47.407_7.637\n",
      "2020-07-05T00:00:00Z_46.907_7.137_47.407_7.637\n",
      "2020-11-18T00:00:00Z_46.907_7.137_47.407_7.637\n",
      "2020-06-26T00:00:00Z_46.907_7.137_47.407_7.637\n",
      "2020-11-28T00:00:00Z_46.907_7.137_47.407_7.637\n",
      "2020-10-29T00:00:00Z_46.907_7.137_47.407_7.637\n",
      "2020-09-09T00:00:00Z_46.907_7.137_47.407_7.637\n",
      "2020-10-08T00:00:00Z_46.907_7.137_47.407_7.637\n",
      "2020-10-03T00:00:00Z_46.907_7.137_47.407_7.637\n",
      "2020-07-31T00:00:00Z_46.907_7.137_47.407_7.637\n",
      "2021-03-18T00:00:00Z_46.907_7.137_47.407_7.637\n",
      "2020-08-30T00:00:00Z_46.907_7.137_47.407_7.637\n",
      "2020-05-01T00:00:00Z_46.907_7.137_47.407_7.637\n"
     ]
    }
   ],
   "source": [
    "data_path = 'downloads/SENTINEL 2/'\n",
    "for folder in os.listdir(data_path):\n",
    "    filelist = [file for file in os.listdir(data_path+folder) if file.endswith('.tiff')]\n",
    "    if len(filelist)<10:\n",
    "        print(folder)"
   ]
  },
  {
   "cell_type": "markdown",
   "id": "9adb88bc-e36a-4099-b1ef-e2a0c0fc1eb3",
   "metadata": {},
   "source": [
    "## Name cleaning\n",
    "Simplify and hogmogenise the filenamesto facilitate procssind downstream"
   ]
  },
  {
   "cell_type": "code",
   "execution_count": 2,
   "id": "93d6b5fe-ffb7-41fd-a5ec-8335c86c20d2",
   "metadata": {},
   "outputs": [],
   "source": [
    "def clean_filenames(dir_path, datasource):\n",
    "    \"\"\"\n",
    "    Rename files to keep only band name and date\n",
    "    Delete other files\n",
    "    parameters\n",
    "    --------\n",
    "    inputs\n",
    "    dir_path: str\n",
    "        path to folder of files that need to be cleaned\n",
    "    datasource: str\n",
    "        one of ['era', 'sen', 'lc', 'nasa']\n",
    "    \"\"\"\n",
    "    \n",
    "    if datasource in ['era', 'sen']:\n",
    "       \n",
    "        for folder in os.listdir(dir_path):\n",
    "            if folder.startswith('2'): #date\n",
    "                datetime = folder.split('Z')[0]\n",
    "                for f in os.listdir(dir_path + folder):\n",
    "                    if f.endswith('.tiff'):\n",
    "                        band_name = f.split('[')[1].split(']')[0]\n",
    "                        new_name = band_name + '_' + datetime + '.tiff'\n",
    "                        os.rename(dir_path + folder + '/' + f, dir_path + folder + '/' + new_name)\n",
    "                        # delete all other files?\n",
    "                        \n",
    "    if datasource in ['lc']:\n",
    "       \n",
    "        for folder in os.listdir(dir_path):\n",
    "            if folder.startswith('2'): #date\n",
    "                datetime = folder.split('_')[0]\n",
    "                for f in os.listdir(dir_path + folder):\n",
    "                    if f.endswith('.tiff'):\n",
    "                        new_name = 'LCv3_' + datetime + '.tiff'\n",
    "                        os.rename(dir_path + folder + '/' + f, dir_path + folder + '/' + new_name)\n",
    "                        # delete all other files?\n",
    "\n",
    "    if datasource in ['nasa']:\n",
    "       \n",
    "        for folder in os.listdir(dir_path):\n",
    "            if folder.startswith('4'): #coordinate\n",
    "                for f in os.listdir(dir_path + folder):\n",
    "                    if f.endswith('.tiff'):\n",
    "                        new_name = 'nasadem.tiff'\n",
    "                        os.rename(dir_path + folder + '/' + f, dir_path + folder + '/' + new_name)\n",
    "                        # delete all other files?"
   ]
  },
  {
   "cell_type": "code",
   "execution_count": 3,
   "id": "7823306b-ffc1-4b50-a65b-6ec4ae20aa1e",
   "metadata": {},
   "outputs": [],
   "source": [
    "sen_path = '/Users/emi/Documents/GitHub/Drought_Impact/Data Downloading/downloads/SENTINEL 2/'\n",
    "era_path = '/Users/emi/Documents/GitHub/Drought_Impact/Data Downloading/downloads/ERA5/'\n",
    "lc_path = '/Users/emi/Documents/GitHub/Drought_Impact/Data Downloading/downloads/LC Copernicus/'\n",
    "nasa_path = '/Users/emi/Documents/GitHub/Drought_Impact/Data Downloading/downloads/NASA DEM/'\n",
    "\n",
    "#clean_filenames(sen_path, 'sen')\n",
    "#clean_filenames(era_path, 'era')\n",
    "clean_filenames(lc_path, 'lc')\n",
    "clean_filenames(nasa_path, 'nasa')"
   ]
  },
  {
   "cell_type": "markdown",
   "id": "4ee3b788-6c70-432c-ae34-b43f9d872d27",
   "metadata": {},
   "source": [
    "# TorchGeo data sampler and loader"
   ]
  },
  {
   "cell_type": "markdown",
   "id": "18005b41-5bf5-4941-b5f7-cbd20a3d8b77",
   "metadata": {},
   "source": [
    "## Create dataset "
   ]
  },
  {
   "cell_type": "code",
   "execution_count": 4,
   "id": "c25889f8-0f6f-49f6-a1c6-087e52115c42",
   "metadata": {},
   "outputs": [],
   "source": [
    "class Sentinel2(RasterDataset):\n",
    "    filename_glob = \"*.tiff\"\n",
    "    filename_regex = r\"^2*\" \n",
    "    date_format = \"%Y%m%dT%H%M%S\"\n",
    "    is_image = True\n",
    "    separate_files = True\n",
    "    all_bands = [\"B02\", \"B03\", \"B04\", \"B05\", \"B06\", \"B07\", \"B08\", \"B8a\", \"B11\", \"B12\", \"NDVI\", \"SCL\", \"CP\"] \n",
    "    rgb_bands = [\"B04\", \"B03\", \"B02\"]\n",
    "    \n",
    "    def plot(self, sample):\n",
    "        # Find the correct band index order\n",
    "        rgb_indices = []\n",
    "        for band in self.rgb_bands:\n",
    "            rgb_indices.append(self.all_bands.index(band))\n",
    "\n",
    "        # Reorder and rescale the image\n",
    "        image = sample[\"image\"][rgb_indices].permute(1, 2, 0)\n",
    "        image = torch.clamp(image / 6000, min=0, max=1).numpy()\n",
    "\n",
    "        # Plot the image\n",
    "        fig, ax = plt.subplots()\n",
    "        ax.imshow(image)\n",
    "\n",
    "        return fig"
   ]
  },
  {
   "cell_type": "code",
   "execution_count": 5,
   "id": "66d3e199-c805-49a9-a324-b819215300a1",
   "metadata": {},
   "outputs": [],
   "source": [
    "SenDataset = Sentinel2(sen_path)"
   ]
  },
  {
   "cell_type": "code",
   "execution_count": 6,
   "id": "74a792b3-1dc5-4b66-90fe-a2670739cddd",
   "metadata": {},
   "outputs": [
    {
     "name": "stdout",
     "output_type": "stream",
     "text": [
      "Sentinel2 Dataset\n",
      "    type: GeoDataset\n",
      "    bbox: BoundingBox(minx=6.8984319999999855, maxx=7.951103999999987, miny=47.099264, maxy=47.150464, mint=0.0, maxt=9.223372036854776e+18)\n",
      "    size: 19\n"
     ]
    }
   ],
   "source": [
    "print(SenDataset)"
   ]
  },
  {
   "cell_type": "code",
   "execution_count": null,
   "id": "c6772403",
   "metadata": {},
   "outputs": [],
   "source": [
    "torch.manual_seed(1)\n",
    "\n",
    "dataset = Sentinel2(sen_path)\n",
    "sampler = RandomGeoSampler(dataset, size=256, length=1)\n",
    "dataloader = DataLoader(dataset, sampler=sampler, collate_fn=stack_samples)\n",
    "\n",
    "for batch in dataloader:\n",
    "    sample = unbind_samples(batch)[0]\n",
    "    dataset.plot(sample)\n",
    "    plt.axis(\"off\")\n",
    "    plt.show()"
   ]
  },
  {
   "cell_type": "code",
   "execution_count": 7,
   "id": "619fb8f4",
   "metadata": {},
   "outputs": [],
   "source": [
    "class NasaDEM(RasterDataset):\n",
    "    filename_glob = \"*.tiff\"\n",
    "    filename_regex = r\"^nasadem*\" \n",
    "    date_format = \"%Y%m%dT%H%M%S\"\n",
    "    is_image = True\n",
    "    separate_files = True\n",
    "    all_bands = [\"DEM\"]\n",
    "    \n",
    "    def plot(self, sample):\n",
    "        # Find the correct band index order\n",
    "        indices = []\n",
    "        for band in self.all_bands:\n",
    "            indices.append(self.all_bands.index(band))\n",
    "\n",
    "        # Reorder and rescale the image\n",
    "        image = sample[\"image\"][indices].permute(1, 2, 0)\n",
    "        image = torch.clamp(image / 6000, min=0, max=1).numpy()\n",
    "\n",
    "        # Plot the image\n",
    "        fig, ax = plt.subplots()\n",
    "        ax.imshow(image)\n",
    "\n",
    "        return fig"
   ]
  },
  {
   "cell_type": "code",
   "execution_count": 8,
   "id": "91ed0157",
   "metadata": {},
   "outputs": [
    {
     "name": "stdout",
     "output_type": "stream",
     "text": [
      "NasaDEM Dataset\n",
      "    type: GeoDataset\n",
      "    bbox: BoundingBox(minx=7.135999999999996, maxx=7.637759999999995, miny=46.906752000000004, maxy=47.408512, mint=0.0, maxt=9.223372036854776e+18)\n",
      "    size: 1\n"
     ]
    }
   ],
   "source": [
    "dataset = NasaDEM(nasa_path)\n",
    "print(dataset)"
   ]
  },
  {
   "cell_type": "code",
   "execution_count": 9,
   "id": "a5b7176c",
   "metadata": {},
   "outputs": [
    {
     "data": {
      "image/png": "[encoded data removed]",
      "text/plain": [
       "<Figure size 640x480 with 1 Axes>"
      ]
     },
     "metadata": {},
     "output_type": "display_data"
    }
   ],
   "source": [
    "torch.manual_seed(1)\n",
    "\n",
    "dataset = NasaDEM(nasa_path)\n",
    "sampler = RandomGeoSampler(dataset, size=256, length=1)\n",
    "dataloader = DataLoader(dataset, sampler=sampler, collate_fn=stack_samples)\n",
    "\n",
    "for batch in dataloader:\n",
    "    sample = unbind_samples(batch)[0]\n",
    "    dataset.plot(sample)\n",
    "    plt.axis(\"off\")\n",
    "    plt.show()"
   ]
  },
  {
   "cell_type": "code",
   "execution_count": 10,
   "id": "8fb9b864",
   "metadata": {},
   "outputs": [],
   "source": [
    "class LCCopernicus(RasterDataset):\n",
    "    filename_glob = \"*.tiff\"\n",
    "    filename_regex = r\"^2*\" \n",
    "    date_format = \"%Y%m%dT%H%M%S\"\n",
    "    is_image = True\n",
    "    separate_files = True\n",
    "    all_bands = [\"LC\"]\n",
    "    \n",
    "    def plot(self, sample):\n",
    "        # Find the correct band index order\n",
    "        indices = []\n",
    "        for band in self.all_bands:\n",
    "            indices.append(self.all_bands.index(band))\n",
    "\n",
    "        # Reorder and rescale the image\n",
    "        image = sample[\"image\"][indices].permute(1, 2, 0)\n",
    "        image = torch.clamp(image / 6000, min=0, max=1).numpy()\n",
    "\n",
    "        # Plot the image\n",
    "        fig, ax = plt.subplots()\n",
    "        ax.imshow(image)\n",
    "\n",
    "        return fig"
   ]
  },
  {
   "cell_type": "code",
   "execution_count": 11,
   "id": "ab3f3bfb",
   "metadata": {},
   "outputs": [
    {
     "name": "stdout",
     "output_type": "stream",
     "text": [
      "LCCopernicus Dataset\n",
      "    type: GeoDataset\n",
      "    bbox: BoundingBox(minx=7.135999999999996, maxx=7.637759999999995, miny=46.906752000000004, maxy=47.408512, mint=0.0, maxt=9.223372036854776e+18)\n",
      "    size: 4\n"
     ]
    }
   ],
   "source": [
    "dataset = LCCopernicus(lc_path)\n",
    "print(dataset)"
   ]
  },
  {
   "cell_type": "code",
   "execution_count": 12,
   "id": "154bdc1d",
   "metadata": {},
   "outputs": [
    {
     "data": {
      "image/png": "[encoded data removed]",
      "text/plain": [
       "<Figure size 640x480 with 1 Axes>"
      ]
     },
     "metadata": {},
     "output_type": "display_data"
    },
    {
     "data": {
      "image/png": "[encoded data removed]",
      "text/plain": [
       "<Figure size 640x480 with 1 Axes>"
      ]
     },
     "metadata": {},
     "output_type": "display_data"
    }
   ],
   "source": [
    "torch.manual_seed(1)\n",
    "\n",
    "dataset = LCCopernicus(lc_path)\n",
    "sampler = RandomGeoSampler(dataset, size=256, length=2)\n",
    "dataloader = DataLoader(dataset, sampler=sampler, collate_fn=stack_samples)\n",
    "\n",
    "for batch in dataloader:\n",
    "    sample = unbind_samples(batch)[0]\n",
    "    dataset.plot(sample)\n",
    "    plt.axis(\"off\")\n",
    "    plt.show()"
   ]
  },
  {
   "cell_type": "code",
   "execution_count": 13,
   "id": "86669c54",
   "metadata": {},
   "outputs": [],
   "source": [
    "class ERA5(RasterDataset):\n",
    "    filename_glob = \"*.tiff\"\n",
    "    filename_regex = r\"^2*\" \n",
    "    date_format = \"%Y%m%dT%H%M%S\"\n",
    "    is_image = True\n",
    "    separate_files = True\n",
    "    all_bands = [\"Red\",\"Total Prec\",\"SP\",\"Temp\",\"AWVC\",\"SR\",\"TCC\",\"MinT\",\"MaxT\"]\n",
    "    \n",
    "    def plot(self, sample):\n",
    "        # Find the correct band index order\n",
    "        indices = []\n",
    "        for band in self.all_bands:\n",
    "            indices.append(self.all_bands.index(band))\n",
    "\n",
    "        # Reorder and rescale the image\n",
    "        image = sample[\"image\"][indices].permute(1, 2, 0)\n",
    "        image = torch.clamp(image / 6000, min=0, max=1).numpy()\n",
    "\n",
    "        # Plot the image\n",
    "        fig, ax = plt.subplots()\n",
    "        ax.imshow(image)\n",
    "\n",
    "        return fig"
   ]
  },
  {
   "cell_type": "code",
   "execution_count": 14,
   "id": "b1644cbf",
   "metadata": {},
   "outputs": [
    {
     "name": "stdout",
     "output_type": "stream",
     "text": [
      "ERA5 Dataset\n",
      "    type: GeoDataset\n",
      "    bbox: BoundingBox(minx=6.8984319999999855, maxx=7.951103999999987, miny=47.099264, maxy=47.150464, mint=0.0, maxt=9.223372036854776e+18)\n",
      "    size: 10\n"
     ]
    }
   ],
   "source": [
    "dataset = ERA5(era_path)\n",
    "print(dataset)"
   ]
  },
  {
   "cell_type": "code",
   "execution_count": null,
   "id": "818667bf",
   "metadata": {},
   "outputs": [],
   "source": [
    "torch.manual_seed(1)\n",
    "\n",
    "dataset = ERA5(era_path)\n",
    "sampler = RandomGeoSampler(dataset, size=256, length = 1)\n",
    "dataloader = DataLoader(dataset, sampler=sampler, collate_fn=stack_samples)\n",
    "\n",
    "for batch in dataloader:\n",
    "    sample = unbind_samples(batch)[0]\n",
    "    dataset.plot(sample)\n",
    "    plt.axis(\"off\")\n",
    "    plt.show()"
   ]
  }
 ],
 "metadata": {
  "kernelspec": {
   "display_name": "drought",
   "language": "python",
   "name": "drought"
  },
  "language_info": {
   "codemirror_mode": {
    "name": "ipython",
    "version": 3
   },
   "file_extension": ".py",
   "mimetype": "text/x-python",
   "name": "python",
   "nbconvert_exporter": "python",
   "pygments_lexer": "ipython3",
   "version": "3.8.13"
  }
 },
 "nbformat": 4,
 "nbformat_minor": 5
}
